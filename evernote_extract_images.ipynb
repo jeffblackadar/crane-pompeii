{
  "nbformat": 4,
  "nbformat_minor": 0,
  "metadata": {
    "colab": {
      "name": "evernote_extract_images.ipynb",
      "provenance": [],
      "collapsed_sections": [],
      "toc_visible": true,
      "mount_file_id": "14SMFKoNfwOXoHFrK7EjICg5dVL4Vevxa",
      "authorship_tag": "ABX9TyNQkYo7lMj5e2IPl5HtIJd9",
      "include_colab_link": true
    },
    "kernelspec": {
      "name": "python3",
      "display_name": "Python 3"
    }
  },
  "cells": [
    {
      "cell_type": "markdown",
      "metadata": {
        "id": "view-in-github",
        "colab_type": "text"
      },
      "source": [
        "<a href=\"https://colab.research.google.com/github/jeffblackadar/crane-pompeii/blob/master/evernote_extract_images.ipynb\" target=\"_parent\"><img src=\"https://colab.research.google.com/assets/colab-badge.svg\" alt=\"Open In Colab\"/></a>"
      ]
    },
    {
      "cell_type": "markdown",
      "metadata": {
        "id": "13hXgnDnziPg"
      },
      "source": [
        "This notebook is a proof of concept to extract images from a notebook in Evernote.\r\n",
        "* It lists all of the notebooks\r\n",
        "* For a selected notebook, it loops through all notes in it.\r\n",
        "* For each note, it saves images known as \"resources\" as a file.\r\n",
        "\r\n",
        "## Tokens\r\n",
        "A token is needed: https://sandbox.evernote.com/api/DeveloperToken.action\r\n",
        "\r\n",
        "## Credit to:\r\n",
        "### Evernote API & Python 3.x, https://xbopp.com/evernote-to-python1/\r\n",
        "### Evernote Developer Documentation https://dev.evernote.com/doc/\r\n",
        "### Evernote API reference https://dev.evernote.com/doc/reference/\r\n",
        "### Search https://dev.evernote.com/doc/articles/search.php\r\n",
        "### Resources https://dev.evernote.com/doc/articles/resources.php"
      ]
    },
    {
      "cell_type": "code",
      "metadata": {
        "colab": {
          "base_uri": "https://localhost:8080/"
        },
        "id": "dLEPzxVqzdKo",
        "outputId": "f9fb74f1-60b9-411f-e98d-55993514a18a"
      },
      "source": [
        "!pip install git+https://github.com/evernote/evernote-sdk-python3.git\r\n",
        "!pip install oauth2"
      ],
      "execution_count": 1,
      "outputs": [
        {
          "output_type": "stream",
          "text": [
            "Collecting git+https://github.com/evernote/evernote-sdk-python3.git\n",
            "  Cloning https://github.com/evernote/evernote-sdk-python3.git to /tmp/pip-req-build-kya5otyw\n",
            "  Running command git clone -q https://github.com/evernote/evernote-sdk-python3.git /tmp/pip-req-build-kya5otyw\n",
            "Requirement already satisfied (use --upgrade to upgrade): evernote3==1.25.0 from git+https://github.com/evernote/evernote-sdk-python3.git in /usr/local/lib/python3.6/dist-packages\n",
            "Requirement already satisfied: oauthlib in /usr/local/lib/python3.6/dist-packages (from evernote3==1.25.0) (3.1.0)\n",
            "Requirement already satisfied: requests_oauthlib in /usr/local/lib/python3.6/dist-packages (from evernote3==1.25.0) (1.3.0)\n",
            "Requirement already satisfied: requests>=2.0.0 in /usr/local/lib/python3.6/dist-packages (from requests_oauthlib->evernote3==1.25.0) (2.23.0)\n",
            "Requirement already satisfied: certifi>=2017.4.17 in /usr/local/lib/python3.6/dist-packages (from requests>=2.0.0->requests_oauthlib->evernote3==1.25.0) (2020.12.5)\n",
            "Requirement already satisfied: idna<3,>=2.5 in /usr/local/lib/python3.6/dist-packages (from requests>=2.0.0->requests_oauthlib->evernote3==1.25.0) (2.10)\n",
            "Requirement already satisfied: chardet<4,>=3.0.2 in /usr/local/lib/python3.6/dist-packages (from requests>=2.0.0->requests_oauthlib->evernote3==1.25.0) (3.0.4)\n",
            "Requirement already satisfied: urllib3!=1.25.0,!=1.25.1,<1.26,>=1.21.1 in /usr/local/lib/python3.6/dist-packages (from requests>=2.0.0->requests_oauthlib->evernote3==1.25.0) (1.24.3)\n",
            "Building wheels for collected packages: evernote3\n",
            "  Building wheel for evernote3 (setup.py) ... \u001b[?25l\u001b[?25hdone\n",
            "  Created wheel for evernote3: filename=evernote3-1.25.0-cp36-none-any.whl size=143704 sha256=a23621cc86d54a050cdb667ddb6018f766f0da40392fede406aaaf5295e8ab18\n",
            "  Stored in directory: /tmp/pip-ephem-wheel-cache-vjy7oplc/wheels/63/4a/27/69fc0e9c3afe2951dcfc496e595173fe71a3d456f31c8d0666\n",
            "Successfully built evernote3\n",
            "Requirement already satisfied: oauth2 in /usr/local/lib/python3.6/dist-packages (1.9.0.post1)\n",
            "Requirement already satisfied: httplib2 in /usr/local/lib/python3.6/dist-packages (from oauth2) (0.17.4)\n"
          ],
          "name": "stdout"
        }
      ]
    },
    {
      "cell_type": "code",
      "metadata": {
        "colab": {
          "base_uri": "https://localhost:8080/"
        },
        "id": "mE1RnJDP3Pco",
        "outputId": "83e7f7fb-f33f-4fee-97c5-866c559be0f2"
      },
      "source": [
        "from google.colab import drive\n",
        "drive.mount('/content/drive')"
      ],
      "execution_count": 2,
      "outputs": [
        {
          "output_type": "stream",
          "text": [
            "Drive already mounted at /content/drive; to attempt to forcibly remount, call drive.mount(\"/content/drive\", force_remount=True).\n"
          ],
          "name": "stdout"
        }
      ]
    },
    {
      "cell_type": "code",
      "metadata": {
        "colab": {
          "base_uri": "https://localhost:8080/"
        },
        "id": "wCKk7Nczz4cH",
        "outputId": "4e414832-7ec6-4697-adf9-07ab77f53641"
      },
      "source": [
        "import json\r\n",
        "#import hashlib\r\n",
        "#import binascii\r\n",
        "import evernote.edam.userstore.constants as UserStoreConstants\r\n",
        "#import evernote.edam.type.ttypes as Types\r\n",
        "import os\r\n",
        "from evernote.api.client import EvernoteClient\r\n",
        "from evernote.edam.notestore.ttypes import NoteFilter, NotesMetadataResultSpec\r\n",
        "from PIL import Image\r\n",
        "\r\n",
        "import io\r\n",
        "import binascii\r\n",
        "\r\n",
        "# https://xbopp.com/evernote-to-python1/\r\n",
        "# Real applications authenticate with Evernote using OAuth, but for the\r\n",
        "# purpose of exploring the API, you can get a developer token that allows\r\n",
        "# you to access your own Evernote account. To get a developer token, visit\r\n",
        "# https://sandbox.evernote.com/api/DeveloperToken.action\r\n",
        "\r\n",
        "# The json file stores the EVERNOTE_DEV_TOKEN so we don't have it in the code.\r\n",
        "# The json file looks like this:\r\n",
        "# {\"EVERNOTE_DEV_TOKEN\": \"S=..... etc....\"}\r\n",
        "# cv.json contains the credentials for this program.\r\n",
        "\r\n",
        "settings_path = \"/content/drive/MyDrive/william_white/\"\r\n",
        "evernote_settings_file = settings_path+'evernote.json'\r\n",
        "with open(evernote_settings_file, \"r\") as read_file:\r\n",
        "    evernote_auth_data = json.load(read_file)\r\n",
        "\r\n",
        "auth_token = evernote_auth_data[\"EVERNOTE_DEV_TOKEN\"]\r\n",
        "\r\n",
        "sandbox=True\r\n",
        "china=False\r\n",
        "\r\n",
        "#client = EvernoteClient(token=auth_token, sandbox=sandbox,china=china)\r\n",
        "client = EvernoteClient(token=auth_token, sandbox=sandbox)\r\n",
        "\r\n",
        "user_store = client.get_user_store()\r\n",
        "version_ok = user_store.checkVersion(\r\n",
        "    \"Evernote EDAMTest (Python)\",\r\n",
        "    UserStoreConstants.EDAM_VERSION_MAJOR,\r\n",
        "    UserStoreConstants.EDAM_VERSION_MINOR\r\n",
        ")\r\n",
        "print(\"Is my Evernote API version up to date? \", str(version_ok))\r\n",
        "if not version_ok:\r\n",
        "    exit(1)\r\n",
        "\r\n",
        "note_store = client.get_note_store()\r\n",
        "\r\n",
        "# List all of the notebooks in the user's account\r\n",
        "notebooks = note_store.listNotebooks()\r\n",
        "print(\"Found \", len(notebooks), \" notebooks:\")\r\n",
        "myNotebookGuid = \"\"\r\n",
        "for notebook in notebooks:\r\n",
        "    print(\"notebook title: \",notebook.name, \"guid: \", notebook.guid)\r\n",
        "    # look for a specific notebook\r\n",
        "    if(notebook.name == \"First Notebook\"):\r\n",
        "        myNotebookGuid = notebook.guid    \r\n",
        "\r\n",
        "if myNotebookGuid == \"\":\r\n",
        "    print(\"Specific notebook note found. Is the name spelled right?\")\r\n",
        "    exit(1)\r\n",
        "\r\n",
        "#sort of pointless - since we already have a handle on it above.\r\n",
        "myNotebook = note_store.getNotebook(myNotebookGuid)\r\n",
        "\r\n",
        "\r\n",
        "# filter to get notes inside the notebook\r\n",
        "filter = NoteFilter()\r\n",
        "filter.notebookGuid = myNotebookGuid\r\n",
        "filter.ascending = False\r\n",
        "\r\n",
        "spec = NotesMetadataResultSpec()\r\n",
        "spec.includeTitle = True\r\n",
        "\r\n",
        "ourNoteList = note_store.findNotesMetadata(auth_token, filter, 0, 100, spec)\r\n",
        "#for note in ourNoteList.notes:\r\n",
        "    #print(note.guid)\r\n",
        "    # https://dev.evernote.com/doc/reference/NoteStore.html#Fn_NoteStore_getNoteContent\r\n",
        "    #content = note_store.getNoteContent(note.guid)\r\n",
        "    #print(content)\r\n",
        "\r\n",
        "image_destination = \"/content/drive/MyDrive/crane_amuqall_old/\"\r\n",
        "\r\n",
        "for note in ourNoteList.notes:\r\n",
        "    wholeNote = note_store.getNote(auth_token, note.guid, True, True, True, True) \r\n",
        "    print (\"Content length: %d\" % wholeNote.contentLength)\r\n",
        "    note_resources = wholeNote.resources\r\n",
        "    for note_resource in note_resources:\r\n",
        "        file_content = note_resource.data.body\r\n",
        "        file_type = note_resource.mime\r\n",
        "        file_name = note_resource.attributes.fileName\r\n",
        "        # Thanks to https://stackoverflow.com/questions/42339876/error-unicodedecodeerror-utf-8-codec-cant-decode-byte-0xff-in-position-0-in\r\n",
        "        decode_bytes = file_content.decode('ISO-8859-1')\r\n",
        "        resource_bytes = bytes(decode_bytes, 'ISO-8859-1')\r\n",
        "        stream = io.BytesIO(resource_bytes)\r\n",
        "        img = Image.open(stream)\r\n",
        "        print(\"saving\",file_name)\r\n",
        "        img.save(os.path.join(image_destination,file_name))"
      ],
      "execution_count": 4,
      "outputs": [
        {
          "output_type": "stream",
          "text": [
            "Is my Evernote API version up to date?  True\n",
            "Found  1  notebooks:\n",
            "notebook title:  First Notebook guid:  dee129fb-5d4a-40c5-b4f3-4232f26165fc\n",
            "Content length: 335\n",
            "saving IMG-20120713-00160.jpg\n",
            "saving IMG-20120713-00171.jpg\n",
            "Content length: 261\n",
            "saving IMG-20120713-00186.jpg\n",
            "Content length: 268\n",
            "saving BlueMtHearthforShawnJeff.jpg\n"
          ],
          "name": "stdout"
        }
      ]
    }
  ]
}
