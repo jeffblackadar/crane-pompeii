{
 "cells": [
  {
   "cell_type": "markdown",
   "metadata": {},
   "source": [
    "# Run this to update the img_path_match column for tbl_webpage_images"
   ]
  },
  {
   "cell_type": "code",
   "execution_count": null,
   "metadata": {},
   "outputs": [],
   "source": [
    "number_of_rows_to_run = 70000\n",
    "start_id = 1\n",
    "end_id = start_id+number_of_rows_to_run\n",
    "\n",
    "import mysql.connector as mariadb\n",
    "mariadb_connection = mariadb.connect(option_files='C:\\\\ProgramData\\\\MySQL\\\\MySQL Server 8.0\\\\webpage_images.cnf', option_groups=\"webpage_images\")\n",
    "cursor = mariadb_connection.cursor(buffered=True)\n",
    "cursor_update = mariadb_connection.cursor(buffered=True)\n",
    "cursor.execute(\"SELECT id, folder, img_src FROM webpage_images.tbl_webpage_images WHERE id>=%s AND id<%s\", (start_id, end_id))\n",
    "for id, folder, img_src in cursor:\n",
    "    img_path_match = folder.replace(\"/pompeiiinpictures\", \"\")+\"/\"+img_src.replace(\"%20\",\" \")\n",
    "    print(img_path_match)\n",
    "    update_image = (\"UPDATE tbl_webpage_images SET `img_path_match` = %s WHERE id=%s;\")\n",
    "    #print(update_image)\n",
    "    cursor_update.execute(update_image, (img_path_match, id))\n",
    "    mariadb_connection.commit()\n",
    "    \n",
    "mariadb_connection.close()    \n"
   ]
  },
  {
   "cell_type": "markdown",
   "metadata": {},
   "source": [
    "# Run this to update the img_path_match column for tbl_box_images"
   ]
  },
  {
   "cell_type": "code",
   "execution_count": null,
   "metadata": {},
   "outputs": [],
   "source": [
    "number_of_rows_to_run = 290000\n",
    "start_id = 1\n",
    "end_id = start_id+number_of_rows_to_run\n",
    "\n",
    "import mysql.connector as mariadb\n",
    "mariadb_connection = mariadb.connect(option_files='C:\\\\ProgramData\\\\MySQL\\\\MySQL Server 8.0\\\\webpage_images.cnf', option_groups=\"webpage_images\")\n",
    "cursor = mariadb_connection.cursor(buffered=True)\n",
    "cursor_update = mariadb_connection.cursor(buffered=True)\n",
    "cursor.execute(\"SELECT id, img_src FROM webpage_images.tbl_box_images WHERE id>=%s AND id<%s\", (start_id, end_id))\n",
    "for id, img_src in cursor:\n",
    "    #print(img_src)\n",
    "    #print(img_src[:7])\n",
    "    if(img_src[:7]==\"/pinp5/\") and (img_src.lower().find(\".xml\")<0) and (img_src.lower().find(\".htm\")<0) and (img_src.lower().find(\".thmx\")<0):\n",
    "        img_path_match = img_src.replace(\"/pinp5/\",\"\")\n",
    "        img_path_match = img_path_match[img_path_match.find(\"/\"):]\n",
    "        print(img_path_match)\n",
    "        update_image = (\"UPDATE tbl_box_images SET `img_path_match` = %s WHERE id=%s;\")\n",
    "        #print(update_image)\n",
    "        cursor_update.execute(update_image, (img_path_match, id))\n",
    "        mariadb_connection.commit()\n",
    "    \n",
    "mariadb_connection.close()    \n"
   ]
  },
  {
   "cell_type": "markdown",
   "metadata": {},
   "source": [
    "# Run this to get a list of all image tags to be insert into a table"
   ]
  },
  {
   "cell_type": "code",
   "execution_count": null,
   "metadata": {},
   "outputs": [],
   "source": [
    "tags = {}\n",
    "def azure_img_tags_parse(tag_text):\n",
    "    # Tags are formatted like: [outdoor] [tree] [ruin] [ruins] [stone] [wall] [archaeology] [ancient] [sky] [stone wall] [plant] [concrete] [cement]\n",
    "    #print(tag_text)\n",
    "    if (tag_text is None):\n",
    "        return\n",
    "\n",
    "    if (tag_text.strip() == \"\"):\n",
    "        return\n",
    "    \n",
    "    # if there is no [ assume there are no more tags\n",
    "    if(tag_text.find(\"[\")<0):\n",
    "        return\n",
    "    else:\n",
    "        #print(tag_text)\n",
    "        lb = tag_text.find(\"[\")\n",
    "        rb = tag_text.find(\"]\")\n",
    "        tag = tag_text[lb+1:rb].lower()\n",
    "        #print(tag)\n",
    "        tags[tag] = tag\n",
    "        azure_img_tags_parse(tag_text[tag_text.find(\"]\")+1:])\n",
    "                   \n",
    "number_of_rows_to_run = 70000\n",
    "start_id = 1\n",
    "end_id = start_id+number_of_rows_to_run\n",
    "\n",
    "import mysql.connector as mariadb\n",
    "mariadb_connection = mariadb.connect(option_files='C:\\\\ProgramData\\\\MySQL\\\\MySQL Server 8.0\\\\webpage_images.cnf', option_groups=\"webpage_images\")\n",
    "cursor = mariadb_connection.cursor(buffered=True)\n",
    "cursor.execute(\"SELECT azure_img_tags FROM webpage_images.tbl_webpage_images WHERE id>=%s AND id<%s\", (start_id, end_id))\n",
    "for azure_img_tags in cursor:\n",
    "    \n",
    "    #print(azure_img_tags[0])\n",
    "    azure_img_tags_parse(azure_img_tags[0])\n",
    "mariadb_connection.close()\n",
    "                   \n",
    "for t, t1 in sorted(tags.items()):    \n",
    "    print (t)"
   ]
  },
  {
   "cell_type": "code",
   "execution_count": null,
   "metadata": {},
   "outputs": [],
   "source": [
    "#get max size for length of field\n",
    "max_len = 0\n",
    "for t, t1 in sorted(tags.items()):    \n",
    "    print (t, len(t))\n",
    "    max_len = max(max_len,len(t))    \n",
    "print(max_len)"
   ]
  },
  {
   "cell_type": "code",
   "execution_count": null,
   "metadata": {},
   "outputs": [],
   "source": [
    "# insert tags into table\n",
    "import mysql.connector as mariadb\n",
    "mariadb_connection = mariadb.connect(option_files='C:\\\\ProgramData\\\\MySQL\\\\MySQL Server 8.0\\\\webpage_images.cnf', option_groups=\"webpage_images\")\n",
    "cursor_insert = mariadb_connection.cursor(buffered=True)\n",
    "\n",
    "for t, t1 in sorted(tags.items()):    \n",
    "    \n",
    "    t=t.replace(\"'\",\"''\")\n",
    "    print (t)\n",
    "    cursor_insert.execute(\"INSERT INTO tbl_azure_img_tags (azure_img_tag) VALUES ('\"+t+\"')\")    \n",
    "    mariadb_connection.commit()\n",
    "    \n",
    "mariadb_connection.close()\n",
    "\n"
   ]
  },
  {
   "cell_type": "markdown",
   "metadata": {},
   "source": [
    "# Update image descriptions"
   ]
  },
  {
   "cell_type": "code",
   "execution_count": null,
   "metadata": {},
   "outputs": [],
   "source": [
    "number_of_rows_to_run = 70000\n",
    "start_id = 1\n",
    "end_id = start_id+number_of_rows_to_run\n",
    "\n",
    "import mysql.connector as mariadb\n",
    "mariadb_connection = mariadb.connect(option_files='C:\\\\ProgramData\\\\MySQL\\\\MySQL Server 8.0\\\\webpage_images.cnf', option_groups=\"webpage_images\")\n",
    "cursor = mariadb_connection.cursor(buffered=True)\n",
    "cursor_aid = mariadb_connection.cursor(buffered=True)\n",
    "cursor_update_wi = mariadb_connection.cursor(buffered=True)\n",
    "\n",
    "#Do image descriptions first\n",
    "cursor.execute(\"SELECT id as wi_id, azure_img_desc FROM webpage_images.tbl_webpage_images WHERE id>=%s AND id<%s\", (start_id, end_id))\n",
    "for wi_id, azure_img_desc in cursor:\n",
    "        \n",
    "    #print(azure_img_desc)\n",
    "    if(not azure_img_desc is None):\n",
    "        cursor_aid.execute(\"SELECT id as aid_id FROM webpage_images.tbl_azure_img_desc WHERE azure_img_desc='\"+azure_img_desc+\"'\")\n",
    "        for aid_id in cursor_aid:\n",
    "            print(aid_id[0])\n",
    "            cursor_update_wi.execute(\"UPDATE tbl_webpage_images SET `azure_img_desc_id` = %s WHERE id=%s;\",(aid_id[0],wi_id))            \n",
    "            mariadb_connection.commit()\n",
    "mariadb_connection.close()"
   ]
  },
  {
   "cell_type": "markdown",
   "metadata": {},
   "source": [
    "# Update image tags"
   ]
  },
  {
   "cell_type": "code",
   "execution_count": null,
   "metadata": {},
   "outputs": [],
   "source": [
    "tags = {}\n",
    "def azure_img_tags_parse_insert_into_table(tag_text, wi_id, cursor_ait, cursor_ait_x, cursor_update_ait_x):\n",
    "    # Tags are formatted like: [outdoor] [tree] [ruin] [ruins] [stone] [wall] [archaeology] [ancient] [sky] [stone wall] [plant] [concrete] [cement]\n",
    "    #print(tag_text)\n",
    "    if (tag_text is None):\n",
    "        return\n",
    "\n",
    "    if (tag_text.strip() == \"\"):\n",
    "        return\n",
    "    \n",
    "    # if there is no [ assume there are no more tags\n",
    "    if(tag_text.find(\"[\")<0):\n",
    "        return\n",
    "    else:\n",
    "        #print(tag_text)\n",
    "        lb = tag_text.find(\"[\")\n",
    "        rb = tag_text.find(\"]\")\n",
    "        tag = tag_text[lb+1:rb].lower()\n",
    "        #print(tag)\n",
    "        #tags[tag] = tag\n",
    "        \n",
    "        #We have a tag.  Get its ID and then insert it into the cross reference table tbl_azure_img_tags_x with the ID of the image\n",
    "        tag=tag.replace(\"'\",\"''\")       \n",
    "        cursor_ait.execute(\"SELECT id as ait_id FROM webpage_images.tbl_azure_img_tags WHERE azure_img_tag='\"+tag+\"'\")        \n",
    "        for ait_id in cursor_ait:\n",
    "            #print(ait_id)\n",
    "            cursor_ait_x.execute(\"SELECT count(*) as cn FROM webpage_images.tbl_azure_img_tags_x WHERE ait_id=%s AND wi_id=%s\",(ait_id[0],wi_id))\n",
    "            for cn in cursor_ait_x:\n",
    "                #print(\"count \" + str(cn[0]))\n",
    "                if(cn[0]==0):\n",
    "                    cursor_update_ait_x.execute(\"INSERT INTO tbl_azure_img_tags_x (ait_id,wi_id) VALUES (%s, %s)\",(ait_id[0],wi_id))\n",
    "                    mariadb_connection.commit()\n",
    "                #else:\n",
    "                    #print(str(ait_id[0])+\" \"+str(wi_id)+\" are already in the table.\")\n",
    "                    \n",
    "        azure_img_tags_parse_insert_into_table(tag_text[tag_text.find(\"]\")+1:], wi_id, cursor_ait, cursor_ait_x, cursor_update_ait_x)\n",
    "                   \n",
    "number_of_rows_to_run = 70000\n",
    "start_id = 1\n",
    "end_id = start_id+number_of_rows_to_run\n",
    "\n",
    "import mysql.connector as mariadb\n",
    "mariadb_connection = mariadb.connect(option_files='C:\\\\ProgramData\\\\MySQL\\\\MySQL Server 8.0\\\\webpage_images.cnf', option_groups=\"webpage_images\")\n",
    "cursor = mariadb_connection.cursor(buffered=True)\n",
    "cursor_ait = mariadb_connection.cursor(buffered=True)\n",
    "cursor_ait_x = mariadb_connection.cursor(buffered=True)\n",
    "cursor_update_ait_x = mariadb_connection.cursor(buffered=True)\n",
    "\n",
    "#Do image descriptions first\n",
    "cursor.execute(\"SELECT id as wi_id, azure_img_desc, azure_img_tags FROM webpage_images.tbl_webpage_images WHERE id>=%s AND id<%s\", (start_id, end_id))\n",
    "for wi_id, azure_img_desc, azure_img_tags in cursor:\n",
    "    \n",
    "    print(wi_id)\n",
    "    if(not azure_img_tags is None):\n",
    "        #print(azure_img_tags)\n",
    "        azure_img_tags_parse_insert_into_table(azure_img_tags, wi_id, cursor_ait, cursor_ait_x, cursor_update_ait_x)\n",
    "        #print(azure_img_tags)\n",
    "mariadb_connection.close()"
   ]
  },
  {
   "cell_type": "code",
   "execution_count": 32,
   "metadata": {},
   "outputs": [],
   "source": [
    "mariadb_connection.close()"
   ]
  },
  {
   "cell_type": "code",
   "execution_count": null,
   "metadata": {},
   "outputs": [],
   "source": []
  }
 ],
 "metadata": {
  "kernelspec": {
   "display_name": "Python 3",
   "language": "python",
   "name": "python3"
  },
  "language_info": {
   "codemirror_mode": {
    "name": "ipython",
    "version": 3
   },
   "file_extension": ".py",
   "mimetype": "text/x-python",
   "name": "python",
   "nbconvert_exporter": "python",
   "pygments_lexer": "ipython3",
   "version": "3.7.4"
  }
 },
 "nbformat": 4,
 "nbformat_minor": 2
}
