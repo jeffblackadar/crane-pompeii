{
 "cells": [
  {
   "cell_type": "markdown",
   "metadata": {},
   "source": [
    "# Run this to update the img_path_match column for tbl_webpage_images"
   ]
  },
  {
   "cell_type": "code",
   "execution_count": null,
   "metadata": {},
   "outputs": [],
   "source": [
    "number_of_rows_to_run = 70000\n",
    "start_id = 1\n",
    "end_id = start_id+number_of_rows_to_run\n",
    "\n",
    "import mysql.connector as mariadb\n",
    "mariadb_connection = mariadb.connect(option_files='C:\\\\ProgramData\\\\MySQL\\\\MySQL Server 8.0\\\\webpage_images.cnf', option_groups=\"webpage_images\")\n",
    "cursor = mariadb_connection.cursor(buffered=True)\n",
    "cursor_update = mariadb_connection.cursor(buffered=True)\n",
    "cursor.execute(\"SELECT id, folder, img_src FROM webpage_images.tbl_webpage_images WHERE id>=%s AND id<%s\", (start_id, end_id))\n",
    "for id, folder, img_src in cursor:\n",
    "    img_path_match = folder.replace(\"/pompeiiinpictures\", \"\")+\"/\"+img_src.replace(\"%20\",\" \")\n",
    "    print(img_path_match)\n",
    "    update_image = (\"UPDATE tbl_webpage_images SET `img_path_match` = %s WHERE id=%s;\")\n",
    "    #print(update_image)\n",
    "    cursor_update.execute(update_image, (img_path_match, id))\n",
    "    mariadb_connection.commit()\n",
    "    \n",
    "mariadb_connection.close()    \n"
   ]
  },
  {
   "cell_type": "markdown",
   "metadata": {},
   "source": [
    "# Run this to update the img_path_match column for tbl_box_images"
   ]
  },
  {
   "cell_type": "code",
   "execution_count": null,
   "metadata": {},
   "outputs": [],
   "source": [
    "number_of_rows_to_run = 290000\n",
    "start_id = 1\n",
    "end_id = start_id+number_of_rows_to_run\n",
    "\n",
    "import mysql.connector as mariadb\n",
    "mariadb_connection = mariadb.connect(option_files='C:\\\\ProgramData\\\\MySQL\\\\MySQL Server 8.0\\\\webpage_images.cnf', option_groups=\"webpage_images\")\n",
    "cursor = mariadb_connection.cursor(buffered=True)\n",
    "cursor_update = mariadb_connection.cursor(buffered=True)\n",
    "cursor.execute(\"SELECT id, img_src FROM webpage_images.tbl_box_images WHERE id>=%s AND id<%s\", (start_id, end_id))\n",
    "for id, img_src in cursor:\n",
    "    #print(img_src)\n",
    "    #print(img_src[:7])\n",
    "    if(img_src[:7]==\"/pinp5/\") and (img_src.lower().find(\".xml\")<0) and (img_src.lower().find(\".htm\")<0) and (img_src.lower().find(\".thmx\")<0):\n",
    "        img_path_match = img_src.replace(\"/pinp5/\",\"\")\n",
    "        img_path_match = img_path_match[img_path_match.find(\"/\"):]\n",
    "        print(img_path_match)\n",
    "        update_image = (\"UPDATE tbl_box_images SET `img_path_match` = %s WHERE id=%s;\")\n",
    "        #print(update_image)\n",
    "        cursor_update.execute(update_image, (img_path_match, id))\n",
    "        mariadb_connection.commit()\n",
    "    \n",
    "mariadb_connection.close()    \n"
   ]
  },
  {
   "cell_type": "code",
   "execution_count": null,
   "metadata": {},
   "outputs": [],
   "source": []
  }
 ],
 "metadata": {
  "kernelspec": {
   "display_name": "Python 3",
   "language": "python",
   "name": "python3"
  },
  "language_info": {
   "codemirror_mode": {
    "name": "ipython",
    "version": 3
   },
   "file_extension": ".py",
   "mimetype": "text/x-python",
   "name": "python",
   "nbconvert_exporter": "python",
   "pygments_lexer": "ipython3",
   "version": "3.7.4"
  }
 },
 "nbformat": 4,
 "nbformat_minor": 2
}
