{
 "cells": [
  {
   "cell_type": "markdown",
   "metadata": {},
   "source": [
    "# This program connects to Box.com, gets images that match the construction type and downloads them."
   ]
  },
  {
   "cell_type": "code",
   "execution_count": null,
   "metadata": {},
   "outputs": [],
   "source": [
    "!pip install boxsdk\n",
    "!pip install auth\n",
    "!pip install redis\n",
    "!pip install mysql.connector\n",
    "!pip install requests"
   ]
  },
  {
   "cell_type": "markdown",
   "metadata": {},
   "source": [
    "# Run the cell below to authenticate with Box.com so we can use the API"
   ]
  },
  {
   "cell_type": "code",
   "execution_count": null,
   "metadata": {},
   "outputs": [],
   "source": [
    "from boxsdk import OAuth2\n",
    "\n",
    "import json\n",
    "#Set the file we want to use for authenticating a Box app\n",
    "#The json file stores the client_id and client_secret so we don't have it in the code.\n",
    "# The json file looks like this:\n",
    "#{\n",
    "#\"client_id\":\"___the_codes_for_client_id___\",\n",
    "#\"client_secret\":\"___the_codes_for_client_secret___\"\n",
    "#}\n",
    "\n",
    "oauth_settings_file = '/home/student/data_5000_project/misc/box_app_test.json'\n",
    "with open(oauth_settings_file, \"r\") as read_file:\n",
    "    oauth_data = json.load(read_file)\n",
    "print(oauth_data[\"client_id\"])\n",
    "print(oauth_data[\"client_secret\"])\n",
    "\n",
    "oauth = OAuth2(\n",
    "    client_id=oauth_data[\"client_id\"],\n",
    "    client_secret=oauth_data[\"client_secret\"]\n",
    ")\n",
    "\n",
    "auth_url, csrf_token = oauth.get_authorization_url('https://jeffblackadar.ca')\n",
    "print(\"Click on this:\")\n",
    "print(auth_url)\n",
    "print(csrf_token)\n",
    "print(\"Copy the code that follows code= in the URL.  Paste it into the oauth.authenticate('___the_code___') below.  Be quick, the code lasts only a few seconds.\")\n",
    "\n"
   ]
  },
  {
   "cell_type": "code",
   "execution_count": null,
   "metadata": {},
   "outputs": [],
   "source": [
    "from boxsdk import Client\n",
    "\n",
    "# Make sure that the csrf token you get from the `state` parameter\n",
    "# in the final redirect URI is the same token you get from the\n",
    "# get_authorization_url method to protect against CSRF vulnerabilities.\n",
    "#assert 'THE_CSRF_TOKEN_YOU_GOT' == csrf_token\n",
    "access_token, refresh_token = oauth.authenticate('u2ij4YXcepP4yej1bHDIJ50AYQYFgEbH')\n",
    "client = Client(oauth)"
   ]
  },
  {
   "cell_type": "markdown",
   "metadata": {},
   "source": [
    "# Test the connection to Box.com - list all folders and files using recursion"
   ]
  },
  {
   "cell_type": "code",
   "execution_count": null,
   "metadata": {},
   "outputs": [],
   "source": [
    "def process_subfolder_test(client, folder_id, folder_name):\n",
    "    print(\"this folder: \"+folder_name)\n",
    "    items = client.folder(folder_id=folder_id).get_items()\n",
    "    for item in items:\n",
    "        print('{0} {1} is named \"{2}\"'.format(item.type.capitalize(), item.id, item.name))\n",
    "        if(item.type.capitalize()==\"Folder\"):\n",
    "            process_subfolder_test(client, item.id,folder_name+\"/\"+item.name)\n",
    "        if(item.type.capitalize()==\"File\"):\n",
    "            #print(item)\n",
    "            print('File: {0} is named: \"{1}\" path: {2} '.format(item.id, item.name, folder_name+\"/\"+item.name))            \n",
    "    return\n",
    "\n",
    "process_subfolder_test(client, '0',\"\")"
   ]
  },
  {
   "cell_type": "code",
   "execution_count": null,
   "metadata": {},
   "outputs": [],
   "source": [
    "#We need the files from this folder\n",
    "#68695443501\n",
    "#Get the list of files by name put them in a dictionary with their id number so we can download it\n",
    "\n",
    "ferebee_images = {}\n",
    "\n",
    "items = client.folder(68695443501).get_items()\n",
    "for item in items:\n",
    "    #print('{0} {1} is named \"{2}\"'.format(item.type.capitalize(), item.id, item.name))\n",
    "    if(item.type.capitalize()==\"File\"):\n",
    "        print('File: {0} is named: \"{1}\"'.format(item.id, item.name))            \n",
    "        ferebee_images[item.name] = item.id\n"
   ]
  },
  {
   "cell_type": "code",
   "execution_count": null,
   "metadata": {},
   "outputs": [],
   "source": [
    "import csv\n",
    "import os\n",
    "\n",
    "# Contruction types\n",
    "construction_types = {\n",
    "\"opus incertum\":\"opus_incertum\",\n",
    "\"opus latericium / opus testaceum\":\"opus_latericium_-_opus_testaceum\",\n",
    "\"opus vittatum mixtum\":\"opus_vittatum_mixtum\",\n",
    "\"opus reticulatum\":\"opus_reticulatum\",\n",
    "\"opus quadratum\":\"opus_quadratum\",\n",
    "\"a telaio (framework)\":\"a_telaio_(framework)\",\n",
    "\"opus vittatum\":\"opus_vittatum\",\n",
    "\"opus quasi-reticulatum\":\"opus_quasi-reticulatum\",\n",
    "\"opus africanum\":\"opus_africanum\",\n",
    "\"opus spicatum\":\"opus_spicatum\",\n",
    "\"opus craticium\":\"opus_craticium\",\n",
    "\"No visible ConType\":\"no_visible_contype\"\n",
    "}\n",
    "\n",
    "\n",
    "print (construction_types[\"opus latericium / opus testaceum\"])\n",
    "img_local_parent_folder =\"/home/student/data_5000_project/data/images/construction_types/raw/\"\n",
    "\n",
    "with open('architecture_cinzia_presti.csv') as csv_file:\n",
    "    csv_reader = csv.reader(csv_file, delimiter=',')\n",
    "    line_count = 0\n",
    "    for row in csv_reader:\n",
    "        if line_count == 0:\n",
    "            print(f'Column names are {\", \".join(row)}')\n",
    "            line_count += 1\n",
    "        else:\n",
    "            con_type = construction_types[row[1]]      \n",
    "            if(con_type!=\"no_visible_contype\"):\n",
    "                print(ferebee_images[row[0]])\n",
    "                id_box_file = ferebee_images[row[0]]  \n",
    "                img_local_folder=img_local_parent_folder+con_type\n",
    "                img_file_name = row[0]\n",
    "                img_local_path = img_local_folder+\"/\"+row[0]\n",
    "                print(img_local_path)\n",
    "                #see if the image is there already\n",
    "                if not os.path.exists(img_local_path):\n",
    "                    if not os.path.exists(img_local_folder):\n",
    "                        path = Path(img_local_folder)\n",
    "                        path.mkdir(parents=True,exist_ok=True)\n",
    "                    imagecontent = client.file(id_box_file).content()\n",
    "                    with open(img_local_path,'wb') as f:\n",
    "                        f.write(imagecontent)\n",
    "                    del imagecontent\n",
    "                    f.close()\n",
    "                    print('wrote it')\n",
    "            \n",
    "                  \n",
    "            #print(f'\\t{row[0]} works in the {row[1]} department, and was born in {row[2]}.')\n",
    "            line_count += 1\n",
    "    print(f'Processed {line_count} lines.')"
   ]
  },
  {
   "cell_type": "code",
   "execution_count": null,
   "metadata": {},
   "outputs": [],
   "source": [
    "print(construction_types)\n",
    "print (construction_types[\"opus latericium / opus testaceum\"])"
   ]
  },
  {
   "cell_type": "code",
   "execution_count": null,
   "metadata": {},
   "outputs": [],
   "source": []
  }
 ],
 "metadata": {
  "kernelspec": {
   "display_name": "Python 3",
   "language": "python",
   "name": "python3"
  },
  "language_info": {
   "codemirror_mode": {
    "name": "ipython",
    "version": 3
   },
   "file_extension": ".py",
   "mimetype": "text/x-python",
   "name": "python",
   "nbconvert_exporter": "python",
   "pygments_lexer": "ipython3",
   "version": "3.6.10"
  }
 },
 "nbformat": 4,
 "nbformat_minor": 2
}
