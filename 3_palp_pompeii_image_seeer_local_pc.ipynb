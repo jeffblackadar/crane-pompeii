{
 "cells": [
  {
   "cell_type": "code",
   "execution_count": null,
   "metadata": {
    "colab": {},
    "colab_type": "code",
    "id": "uxXEeUHqz33o"
   },
   "outputs": [],
   "source": [
    "import os\n",
    "\n",
    "import json\n",
    "#Set the file we want to use for authenticating an Azure app\n",
    "#The json file stores the COMPUTER_VISION_SUBSCRIPTION_KEY and COMPUTER_VISION_ENDPOINT so we don't have it in the code.\n",
    "# The json file looks like this:\n",
    "#{\n",
    "#\"COMPUTER_VISION_SUBSCRIPTION_KEY\":\"___the_COMPUTER_VISION_SUBSCRIPTION_KEY___\",\n",
    "#\"COMPUTER_VISION_ENDPOINT\":\"___the_COMPUTER_VISION_ENDPOINT___\"\n",
    "#}\n",
    "\n",
    "cv_settings_file = 'C:\\\\ProgramData\\\\MySQL\\\\MySQL Server 8.0\\\\azure_app_cv.json'\n",
    "with open(cv_settings_file, \"r\") as read_file:\n",
    "    cv_auth_data = json.load(read_file)\n",
    "#print(cv_auth_data[\"COMPUTER_VISION_SUBSCRIPTION_KEY\"])\n",
    "#print(cv_auth_data[\"COMPUTER_VISION_ENDPOINT\"])\n",
    "\n",
    "os.environ['COMPUTER_VISION_SUBSCRIPTION_KEY']=cv_auth_data[\"COMPUTER_VISION_SUBSCRIPTION_KEY\"]\n",
    "os.environ['COMPUTER_VISION_ENDPOINT']=cv_auth_data[\"COMPUTER_VISION_ENDPOINT\"]"
   ]
  },
  {
   "cell_type": "code",
   "execution_count": 5,
   "metadata": {
    "colab": {
     "base_uri": "https://localhost:8080/",
     "height": 377
    },
    "colab_type": "code",
    "id": "-S0_2KBq3txi",
    "outputId": "97ab4b24-0bb1-4796-d9e4-466d6beb1d85"
   },
   "outputs": [
    {
     "name": "stdout",
     "output_type": "stream",
     "text": [
      "Requirement already up-to-date: azure-cognitiveservices-vision-computervision in c:\\programdata\\anaconda3\\lib\\site-packages (0.5.0)\n",
      "Requirement already satisfied, skipping upgrade: msrest>=0.5.0 in c:\\programdata\\anaconda3\\lib\\site-packages (from azure-cognitiveservices-vision-computervision) (0.6.10)\n",
      "Requirement already satisfied, skipping upgrade: azure-common~=1.1 in c:\\programdata\\anaconda3\\lib\\site-packages (from azure-cognitiveservices-vision-computervision) (1.1.24)\n",
      "Requirement already satisfied, skipping upgrade: certifi>=2017.4.17 in c:\\programdata\\anaconda3\\lib\\site-packages (from msrest>=0.5.0->azure-cognitiveservices-vision-computervision) (2019.9.11)\n",
      "Requirement already satisfied, skipping upgrade: requests~=2.16 in c:\\users\\user\\appdata\\roaming\\python\\python37\\site-packages (from msrest>=0.5.0->azure-cognitiveservices-vision-computervision) (2.21.0)\n",
      "Requirement already satisfied, skipping upgrade: requests-oauthlib>=0.5.0 in c:\\programdata\\anaconda3\\lib\\site-packages (from msrest>=0.5.0->azure-cognitiveservices-vision-computervision) (1.3.0)\n",
      "Requirement already satisfied, skipping upgrade: isodate>=0.6.0 in c:\\programdata\\anaconda3\\lib\\site-packages (from msrest>=0.5.0->azure-cognitiveservices-vision-computervision) (0.6.0)\n",
      "Requirement already satisfied, skipping upgrade: idna<2.9,>=2.5 in c:\\programdata\\anaconda3\\lib\\site-packages (from requests~=2.16->msrest>=0.5.0->azure-cognitiveservices-vision-computervision) (2.8)\n",
      "Requirement already satisfied, skipping upgrade: chardet<3.1.0,>=3.0.2 in c:\\programdata\\anaconda3\\lib\\site-packages (from requests~=2.16->msrest>=0.5.0->azure-cognitiveservices-vision-computervision) (3.0.4)\n",
      "Requirement already satisfied, skipping upgrade: urllib3<1.25,>=1.21.1 in c:\\programdata\\anaconda3\\lib\\site-packages (from requests~=2.16->msrest>=0.5.0->azure-cognitiveservices-vision-computervision) (1.24.2)\n",
      "Requirement already satisfied, skipping upgrade: oauthlib>=3.0.0 in c:\\programdata\\anaconda3\\lib\\site-packages (from requests-oauthlib>=0.5.0->msrest>=0.5.0->azure-cognitiveservices-vision-computervision) (3.1.0)\n",
      "Requirement already satisfied, skipping upgrade: six in c:\\programdata\\anaconda3\\lib\\site-packages (from isodate>=0.6.0->msrest>=0.5.0->azure-cognitiveservices-vision-computervision) (1.12.0)\n"
     ]
    }
   ],
   "source": [
    "!pip install --upgrade azure-cognitiveservices-vision-computervision"
   ]
  },
  {
   "cell_type": "code",
   "execution_count": 6,
   "metadata": {
    "colab": {},
    "colab_type": "code",
    "id": "jiMhMG-Dz4mP"
   },
   "outputs": [],
   "source": [
    "# https://docs.microsoft.com/en-us/azure/cognitive-services/computer-vision/quickstarts-sdk/python-sdk\n",
    "from azure.cognitiveservices.vision.computervision import ComputerVisionClient\n",
    "from azure.cognitiveservices.vision.computervision.models import TextOperationStatusCodes\n",
    "from azure.cognitiveservices.vision.computervision.models import TextRecognitionMode\n",
    "from azure.cognitiveservices.vision.computervision.models import VisualFeatureTypes\n",
    "from msrest.authentication import CognitiveServicesCredentials\n",
    "\n",
    "from array import array\n",
    "import os\n",
    "from PIL import Image\n",
    "import sys\n",
    "import time"
   ]
  },
  {
   "cell_type": "code",
   "execution_count": 7,
   "metadata": {
    "colab": {},
    "colab_type": "code",
    "id": "O2-XeDxx309x"
   },
   "outputs": [],
   "source": [
    "# Add your Computer Vision subscription key to your environment variables.\n",
    "if 'COMPUTER_VISION_SUBSCRIPTION_KEY' in os.environ:\n",
    "    subscription_key = os.environ['COMPUTER_VISION_SUBSCRIPTION_KEY']\n",
    "else:\n",
    "    print(\"\\nSet the COMPUTER_VISION_SUBSCRIPTION_KEY environment variable.\\n**Restart your shell or IDE for changes to take effect.**\")\n",
    "    sys.exit()\n",
    "# Add your Computer Vision endpoint to your environment variables.\n",
    "if 'COMPUTER_VISION_ENDPOINT' in os.environ:\n",
    "    endpoint = os.environ['COMPUTER_VISION_ENDPOINT']\n",
    "else:\n",
    "    print(\"\\nSet the COMPUTER_VISION_ENDPOINT environment variable.\\n**Restart your shell or IDE for changes to take effect.**\")\n",
    "    sys.exit()"
   ]
  },
  {
   "cell_type": "code",
   "execution_count": 8,
   "metadata": {
    "colab": {},
    "colab_type": "code",
    "id": "B7RmGZkWBsUU"
   },
   "outputs": [],
   "source": [
    "computervision_client = ComputerVisionClient(endpoint, CognitiveServicesCredentials(subscription_key))"
   ]
  },
  {
   "cell_type": "markdown",
   "metadata": {
    "colab_type": "text",
    "id": "jZbKaMTo9rWm"
   },
   "source": [
    "Stop here.  Go below."
   ]
  },
  {
   "cell_type": "code",
   "execution_count": 6,
   "metadata": {
    "colab": {},
    "colab_type": "code",
    "id": "pKQeqfJPCBBI"
   },
   "outputs": [],
   "source": [
    "remote_image_url = \"https://pompeiiinpictures.com/pompeiiinpictures/R5/5%2002%2015_files/image003.jpg\""
   ]
  },
  {
   "cell_type": "code",
   "execution_count": 7,
   "metadata": {
    "colab": {
     "base_uri": "https://localhost:8080/",
     "height": 68
    },
    "colab_type": "code",
    "id": "acwktMGjCUSe",
    "outputId": "80f83506-8e73-438d-e84b-ddd476261a77"
   },
   "outputs": [
    {
     "name": "stdout",
     "output_type": "stream",
     "text": [
      "===== Describe an image - remote =====\n",
      "Description of remote image: \n",
      "'a stone building that has a bench in front of a brick wall' with confidence 62.24%\n"
     ]
    }
   ],
   "source": [
    "'''\n",
    "Describe an Image - remote\n",
    "This example describes the contents of an image with the confidence score.\n",
    "'''\n",
    "print(\"===== Describe an image - remote =====\")\n",
    "# Call API\n",
    "description_results = computervision_client.describe_image(remote_image_url )\n",
    "\n",
    "# Get the captions (descriptions) from the response, with confidence level\n",
    "print(\"Description of remote image: \")\n",
    "if (len(description_results.captions) == 0):\n",
    "    print(\"No description detected.\")\n",
    "else:\n",
    "    for caption in description_results.captions:\n",
    "        print(\"'{}' with confidence {:.2f}%\".format(caption.text, caption.confidence * 100))"
   ]
  },
  {
   "cell_type": "code",
   "execution_count": 0,
   "metadata": {
    "colab": {
     "base_uri": "https://localhost:8080/",
     "height": 68
    },
    "colab_type": "code",
    "id": "YlqjEsOhCmuE",
    "outputId": "a4035e1e-23b8-474c-a571-ac30e0f9ce4d"
   },
   "outputs": [
    {
     "name": "stdout",
     "output_type": "stream",
     "text": [
      "===== Categorize an image - remote =====\n",
      "Categories from remote image: \n",
      "'outdoor_stonerock' with confidence 53.12%\n"
     ]
    }
   ],
   "source": [
    "'''\n",
    "Categorize an Image - remote\n",
    "This example extracts (general) categories from a remote image with a confidence score.\n",
    "'''\n",
    "print(\"===== Categorize an image - remote =====\")\n",
    "# Select the visual feature(s) you want.\n",
    "remote_image_features = [\"categories\"]\n",
    "# Call API with URL and features\n",
    "categorize_results_remote = computervision_client.analyze_image(remote_image_url , remote_image_features)\n",
    "\n",
    "# Print results with confidence score\n",
    "print(\"Categories from remote image: \")\n",
    "if (len(categorize_results_remote.categories) == 0):\n",
    "    print(\"No categories detected.\")\n",
    "else:\n",
    "    for category in categorize_results_remote.categories:\n",
    "        print(\"'{}' with confidence {:.2f}%\".format(category.name, category.score * 100))"
   ]
  },
  {
   "cell_type": "code",
   "execution_count": 0,
   "metadata": {
    "colab": {
     "base_uri": "https://localhost:8080/",
     "height": 255
    },
    "colab_type": "code",
    "id": "wxB8R9b2CtMN",
    "outputId": "8f867c86-6d56-4941-9a0d-3c89965f407c"
   },
   "outputs": [
    {
     "name": "stdout",
     "output_type": "stream",
     "text": [
      "===== Tag an image - remote =====\n",
      "Tags in the remote image: \n",
      "'stone' with confidence 99.21%\n",
      "'rock' with confidence 99.07%\n",
      "'building' with confidence 99.00%\n",
      "'outdoor' with confidence 98.60%\n",
      "'brick' with confidence 92.56%\n",
      "'ruin' with confidence 82.91%\n",
      "'ruins' with confidence 76.29%\n",
      "'old' with confidence 63.80%\n",
      "'sky' with confidence 54.32%\n",
      "'concrete' with confidence 45.09%\n",
      "'building material' with confidence 43.49%\n",
      "'cement' with confidence 19.17%\n"
     ]
    }
   ],
   "source": [
    "'''\n",
    "Tag an Image - remote\n",
    "This example returns a tag (key word) for each thing in the image.\n",
    "'''\n",
    "print(\"===== Tag an image - remote =====\")\n",
    "# Call API with remote image\n",
    "tags_result_remote = computervision_client.tag_image(remote_image_url )\n",
    "\n",
    "# Print results with confidence score\n",
    "print(\"Tags in the remote image: \")\n",
    "if (len(tags_result_remote.tags) == 0):\n",
    "    print(\"No tags detected.\")\n",
    "else:\n",
    "    for tag in tags_result_remote.tags:\n",
    "        print(\"'{}' with confidence {:.2f}%\".format(tag.name, tag.confidence * 100))"
   ]
  },
  {
   "cell_type": "code",
   "execution_count": 0,
   "metadata": {
    "colab": {
     "base_uri": "https://localhost:8080/",
     "height": 119
    },
    "colab_type": "code",
    "id": "r9HfXY7bC6x4",
    "outputId": "b21b1bf4-522c-4f6e-bd82-7af9db775c20"
   },
   "outputs": [
    {
     "name": "stdout",
     "output_type": "stream",
     "text": [
      "===== Detect Objects - remote =====\n",
      "Detecting objects in remote image:\n",
      "object at location 213, 365, 85, 208\n",
      "object at location 218, 402, 179, 384\n",
      "object at location 238, 417, 298, 416\n",
      "object at location 116, 419, 60, 386\n"
     ]
    }
   ],
   "source": [
    "'''\n",
    "Detect Objects - remote\n",
    "This example detects different kinds of objects with bounding boxes in a remote image.\n",
    "'''\n",
    "print(\"===== Detect Objects - remote =====\")\n",
    "# Get URL image with different objects\n",
    "remote_image_url_objects = \"https://raw.githubusercontent.com/Azure-Samples/cognitive-services-sample-data-files/master/ComputerVision/Images/objects.jpg\"\n",
    "# Call API with URL\n",
    "detect_objects_results_remote = computervision_client.detect_objects(remote_image_url_objects)\n",
    "\n",
    "# Print detected objects results with bounding boxes\n",
    "print(\"Detecting objects in remote image:\")\n",
    "if len(detect_objects_results_remote.objects) == 0:\n",
    "    print(\"No objects detected.\")\n",
    "else:\n",
    "    for object in detect_objects_results_remote.objects:\n",
    "        print(\"object at location {}, {}, {}, {}\".format( \\\n",
    "        object.rectangle.x, object.rectangle.x + object.rectangle.w, \\\n",
    "        object.rectangle.y, object.rectangle.y + object.rectangle.h))"
   ]
  },
  {
   "cell_type": "code",
   "execution_count": 0,
   "metadata": {
    "colab": {
     "base_uri": "https://localhost:8080/",
     "height": 68
    },
    "colab_type": "code",
    "id": "oKFM3D6DD5G-",
    "outputId": "a671fc49-8ca5-409d-88c4-86b59f0d6980"
   },
   "outputs": [
    {
     "name": "stdout",
     "output_type": "stream",
     "text": [
      "\n",
      "Landmarks in the remote image:\n",
      "No landmarks detected.\n"
     ]
    }
   ],
   "source": [
    "# Call API with content type (landmarks) and URL\n",
    "detect_domain_results_landmarks = computervision_client.analyze_image_by_domain(\"landmarks\", remote_image_url)\n",
    "print()\n",
    "\n",
    "print(\"Landmarks in the remote image:\")\n",
    "if len(detect_domain_results_landmarks.result[\"landmarks\"]) == 0:\n",
    "    print(\"No landmarks detected.\")\n",
    "else:\n",
    "    for landmark in detect_domain_results_landmarks.result[\"landmarks\"]:\n",
    "        print(landmark[\"name\"])"
   ]
  },
  {
   "cell_type": "code",
   "execution_count": 0,
   "metadata": {
    "colab": {
     "base_uri": "https://localhost:8080/",
     "height": 136
    },
    "colab_type": "code",
    "id": "D2L30F3ED_-q",
    "outputId": "bfd461b4-cf0e-49d3-caf4-f7c73c712b6b"
   },
   "outputs": [
    {
     "name": "stdout",
     "output_type": "stream",
     "text": [
      "===== Detect Color - remote =====\n",
      "Getting color scheme of the remote image: \n",
      "Is black and white: False\n",
      "Accent color: 2866A3\n",
      "Dominant background color: Grey\n",
      "Dominant foreground color: Grey\n",
      "Dominant colors: ['Grey']\n"
     ]
    }
   ],
   "source": [
    "'''\n",
    "Detect Color - remote\n",
    "This example detects the different aspects of its color scheme in a remote image.\n",
    "'''\n",
    "print(\"===== Detect Color - remote =====\")\n",
    "# Select the feature(s) you want\n",
    "remote_image_features = [\"color\"]\n",
    "# Call API with URL and features\n",
    "detect_color_results_remote = computervision_client.analyze_image(remote_image_url, remote_image_features)\n",
    "\n",
    "# Print results of color scheme\n",
    "print(\"Getting color scheme of the remote image: \")\n",
    "print(\"Is black and white: {}\".format(detect_color_results_remote.color.is_bw_img))\n",
    "print(\"Accent color: {}\".format(detect_color_results_remote.color.accent_color))\n",
    "print(\"Dominant background color: {}\".format(detect_color_results_remote.color.dominant_color_background))\n",
    "print(\"Dominant foreground color: {}\".format(detect_color_results_remote.color.dominant_color_foreground))\n",
    "print(\"Dominant colors: {}\".format(detect_color_results_remote.color.dominant_colors))"
   ]
  },
  {
   "cell_type": "code",
   "execution_count": 8,
   "metadata": {
    "colab": {
     "base_uri": "https://localhost:8080/",
     "height": 34
    },
    "colab_type": "code",
    "id": "kOrg7OEdIfEC",
    "outputId": "66016eb9-1a3b-491e-8047-2f1d8c0d889e"
   },
   "outputs": [
    {
     "name": "stdout",
     "output_type": "stream",
     "text": [
      "Collecting opencv-python\n",
      "  Using cached https://files.pythonhosted.org/packages/74/41/b01f308ca4a22c8c368ed4ee80ef5318efe2f221cd0024a3a0ee9df6a94d/opencv_python-4.1.2.30-cp37-cp37m-win_amd64.whl\n",
      "Requirement already satisfied: numpy>=1.14.5 in c:\\programdata\\anaconda3\\lib\\site-packages (from opencv-python) (1.16.5)\n",
      "Installing collected packages: opencv-python\n",
      "Successfully installed opencv-python-4.1.2.30\n",
      "Collecting imutils\n",
      "Installing collected packages: imutils\n",
      "Successfully installed imutils-0.5.3\n"
     ]
    }
   ],
   "source": [
    "!pip install opencv-python\n",
    "!pip install imutils"
   ]
  },
  {
   "cell_type": "code",
   "execution_count": 9,
   "metadata": {},
   "outputs": [
    {
     "name": "stdout",
     "output_type": "stream",
     "text": [
      "Collecting mysql.connector\n",
      "Installing collected packages: mysql.connector\n",
      "Successfully installed mysql.connector\n",
      "Requirement already satisfied: requests in c:\\users\\user\\appdata\\roaming\\python\\python37\\site-packages (2.21.0)\n",
      "Requirement already satisfied: idna<2.9,>=2.5 in c:\\programdata\\anaconda3\\lib\\site-packages (from requests) (2.8)\n",
      "Requirement already satisfied: chardet<3.1.0,>=3.0.2 in c:\\programdata\\anaconda3\\lib\\site-packages (from requests) (3.0.4)\n",
      "Requirement already satisfied: urllib3<1.25,>=1.21.1 in c:\\programdata\\anaconda3\\lib\\site-packages (from requests) (1.24.2)\n",
      "Requirement already satisfied: certifi>=2017.4.17 in c:\\programdata\\anaconda3\\lib\\site-packages (from requests) (2019.9.11)\n"
     ]
    }
   ],
   "source": [
    "!pip install mysql.connector\n",
    "!pip install requests\n",
    "\n"
   ]
  },
  {
   "cell_type": "code",
   "execution_count": 10,
   "metadata": {},
   "outputs": [
    {
     "name": "stdout",
     "output_type": "stream",
     "text": [
      "Requirement already satisfied: requests in c:\\users\\user\\appdata\\roaming\\python\\python37\\site-packages (2.21.0)\n",
      "Requirement already satisfied: chardet<3.1.0,>=3.0.2 in c:\\programdata\\anaconda3\\lib\\site-packages (from requests) (3.0.4)\n",
      "Requirement already satisfied: certifi>=2017.4.17 in c:\\programdata\\anaconda3\\lib\\site-packages (from requests) (2019.9.11)\n",
      "Requirement already satisfied: urllib3<1.25,>=1.21.1 in c:\\programdata\\anaconda3\\lib\\site-packages (from requests) (1.24.2)\n",
      "Requirement already satisfied: idna<2.9,>=2.5 in c:\\programdata\\anaconda3\\lib\\site-packages (from requests) (2.8)\n"
     ]
    }
   ],
   "source": [
    "!pip install requests"
   ]
  },
  {
   "cell_type": "markdown",
   "metadata": {
    "colab_type": "text",
    "id": "VWcVUKxP9zg0"
   },
   "source": [
    "Restart here"
   ]
  },
  {
   "cell_type": "code",
   "execution_count": 9,
   "metadata": {
    "colab": {},
    "colab_type": "code",
    "id": "7dXk3esDIkA6"
   },
   "outputs": [],
   "source": [
    "# import the necessary packages\n",
    "from imutils import paths\n",
    "import argparse\n",
    "import time\n",
    "import sys\n",
    "import cv2\n",
    "import os\n",
    "\n",
    "# hashing with OpenCV and PythonPython\n",
    "def dhash(image, hashSize=8):\n",
    "    # resize the input image, adding a single column (width) so we\n",
    "    # can compute the horizontal gradient\n",
    "    resized = cv2.resize(image, (hashSize + 1, hashSize))\n",
    "\n",
    "    # compute the (relative) horizontal gradient between adjacent\n",
    "    # column pixels\n",
    "    diff = resized[:, 1:] > resized[:, :-1]\n",
    "\n",
    "    # convert the difference image to a hash\n",
    "    return sum([2 ** i for (i, v) in enumerate(diff.flatten()) if v])\n",
    "\n"
   ]
  },
  {
   "cell_type": "code",
   "execution_count": null,
   "metadata": {
    "colab": {
     "base_uri": "https://localhost:8080/",
     "height": 1000
    },
    "colab_type": "code",
    "id": "qLRLupHjNwNl",
    "outputId": "e86354f7-3626-4019-9947-449be167523d",
    "scrolled": false
   },
   "outputs": [],
   "source": [
    "import requests\n",
    "import shutil\n",
    "from pathlib import Path\n",
    "base_dir = 'C:\\\\a_orgs\\\\carleton\\\\hist3814\\\\R\\\\pompeii\\\\pompeiiinpictures'\n",
    "\n",
    "\n",
    "import mysql.connector as mariadb\n",
    "\n",
    "mariadb_connection = mariadb.connect(option_files='C:\\\\ProgramData\\\\MySQL\\\\MySQL Server 8.0\\\\webpage_images.cnf', option_groups=\"webpage_images\")\n",
    "cursor = mariadb_connection.cursor(buffered=True)\n",
    "cursor_update = mariadb_connection.cursor(buffered=True)\n",
    "\n",
    "number_of_models_to_run = 3807\n",
    "start_id = 1194\n",
    "end_id = start_id+number_of_models_to_run\n",
    "\n",
    "cursor.execute(\"SELECT id, id_webpage, folder, img_src,  img_alt, img_height, img_width FROM webpage_images.tbl_webpage_images WHERE id>%s AND id<%s\", (start_id, end_id))\n",
    "\n",
    "for id, id_webpage, folder, img_src,  img_alt, img_height, img_width in cursor:\n",
    "\n",
    "    img_folder = folder\n",
    "    #print(img_height)\n",
    "    #print(img_width)\n",
    "    if(img_folder==\"\"):\n",
    "        img_url = \"https://pompeiiinpictures.com/pompeiiinpictures\"+\"/\"+img_src  \n",
    "    else:\n",
    "        img_url = \"https://pompeiiinpictures.com\"+img_folder+\"/\"+img_src\n",
    "    print(img_url)\n",
    "    \n",
    "    \n",
    "    remote_image_url = img_url\n",
    "\n",
    "\n",
    "    # load the image for the image has later.  Load it now because it takes a bit of time\n",
    "    img_local_path = img_url.replace(\"https://pompeiiinpictures.com/pompeiiinpictures\",\"\")\n",
    "    img_local_path = img_local_path.replace(\"%20\",\" \")\n",
    "    img_local_path=base_dir+img_local_path\n",
    "    #print(img_local_path)\n",
    "    img_file_name = img_local_path[img_local_path.rfind('/')+1:]\n",
    "    img_local_folder = img_local_path[:img_local_path.rfind('/')]\n",
    "\n",
    "    #see if the image is there already\n",
    "    if not os.path.exists(img_local_path):\n",
    "        img_file_name = img_local_path[img_local_path.rfind('/')+1:]\n",
    "        img_local_folder = img_local_path[:img_local_path.rfind('/')]\n",
    "        \n",
    "        if not os.path.exists(img_local_folder):\n",
    "            #os.mkdir(img_local_folder)\n",
    "            path = Path(img_local_folder)\n",
    "            path.mkdir(parents=True,exist_ok=True)\n",
    "        #print(img_local_folder+'/'+ img_file_name)\n",
    "        \n",
    "        # Open the url image, set stream to True, this will return the stream content.\n",
    "        resp = requests.get(img_url, stream=True)\n",
    "        # Open a local file with wb ( write binary ) permission.\n",
    "        local_file = open(img_local_folder+'/'+ img_file_name, 'wb')\n",
    "        # Set decode_content value to True, otherwise the downloaded image file's size will be zero.\n",
    "        resp.raw.decode_content = True\n",
    "        # Copy the response stream raw data to local image file.\n",
    "        shutil.copyfileobj(resp.raw, local_file)\n",
    "        # Remove the image url response object.\n",
    "        del resp\n",
    "        \n",
    "        #with open(img_local_folder+'/'+ img_file_name, 'wb') as handle:\n",
    "        #    response = requests.get(img_url, stream=True)\n",
    "#\n",
    "#            if not response.ok:\n",
    "#                print(\"response not ok\")\n",
    "#                print(response)\n",
    "#\n",
    "#            for block in response.iter_content(1024):\n",
    "#                if not block:\n",
    "#                    break#\n",
    "#\n",
    "#                handle.write(block) \n",
    "\n",
    "\n",
    "    # *************************\n",
    "    # Describe image\n",
    "    # *************************\n",
    "    azure_img_desc = \"\"\n",
    "    azure_img_desc_confidence = 0\n",
    "    if(img_height>50 and img_width>50):\n",
    "        '''\n",
    "        Describe an Image - remote\n",
    "        This example describes the contents of an image with the confidence score.\n",
    "        '''\n",
    "        try:\n",
    "            # Call API\n",
    "            description_results = computervision_client.describe_image(remote_image_url )\n",
    "\n",
    "            # Get the captions (descriptions) from the response, with confidence level\n",
    "\n",
    "            if (len(description_results.captions) == 0):\n",
    "                azure_img_desc = \"No description detected.\"\n",
    "                azure_img_desc_confidence = 0\n",
    "            else:\n",
    "                for caption in description_results.captions:\n",
    "                    azure_img_desc = caption.text\n",
    "                    azure_img_desc_confidence = caption.confidence * 100\n",
    "        except:\n",
    "            azure_img_desc = \"Image not found.\"\n",
    "            azure_img_desc_confidence = 0            \n",
    "    else:\n",
    "        azure_img_desc = \"Image too small to describe.\"\n",
    "        azure_img_desc_confidence = 0\n",
    " \n",
    "\n",
    "    # *************************\n",
    "    # Categorize image\n",
    "    # *************************\n",
    "    azure_img_categories=\"[Not processed]\"\n",
    "    azure_img_categories_score=\"\"\n",
    "    # All of this is not run per saving the cost of this processing for later\n",
    "    #if(img_height>50 and img_width>50):    \n",
    "    #    '''\n",
    "    #    Categorize an Image - remote\n",
    "    #    This example extracts (general) categories from a remote image with a confidence score.\n",
    "    #    '''\n",
    "\n",
    "    #    # Select the visual feature(s) you want.\n",
    "    #    remote_image_features = [\"categories\"]\n",
    "    #    # Call API with URL and features\n",
    "    #    categorize_results_remote = computervision_client.analyze_image(remote_image_url , remote_image_features)\n",
    "    #    if (len(categorize_results_remote.categories) == 0):\n",
    "    #        azure_img_categories=\"No categories detected.\"\n",
    "    #        azure_img_categories_score=\"\"\n",
    "    #    else:\n",
    "    #        for category in categorize_results_remote.categories:\n",
    "    #            azure_img_categories=azure_img_categories+\"[\"+category.name+\"] \"\n",
    "    #            azure_img_categories_score=azure_img_categories_score+\"[\"+str(category.score * 100)+\"] \"\n",
    "    #else:\n",
    "    #    azure_img_categories=\"[Image too small to categorize] \"\n",
    "    #    azure_img_categories_score=\"\"\n",
    "\n",
    "    # *************************\n",
    "    # Tag image\n",
    "    # *************************\n",
    "    azure_img_tags=\"\"\n",
    "    azure_img_tags_confidence=\"\"\n",
    "    if(img_height>50 and img_width>50):\n",
    "        '''\n",
    "        Tag an Image - remote\n",
    "        This example returns a tag (key word) for each thing in the image.\n",
    "        '''\n",
    "        try:\n",
    "            # Call API with remote image\n",
    "            tags_result_remote = computervision_client.tag_image(remote_image_url )\n",
    "\n",
    "            if (len(tags_result_remote.tags) == 0):\n",
    "                azure_img_tags=\"No tags detected.\"\n",
    "                azure_img_tags_confidence=\"\"\n",
    "            else:\n",
    "                for tag in tags_result_remote.tags:\n",
    "                    azure_img_tags=azure_img_tags+\"[\"+tag.name+\"] \"\n",
    "                    azure_img_tags_confidence=azure_img_tags_confidence+\"[\"+str(tag.confidence * 100)+\"] \"\n",
    "        except:\n",
    "            azure_img_tags=\"Image not found.\"\n",
    "            azure_img_tags_confidence=\"\"\n",
    "            \n",
    "    else:\n",
    "        azure_img_tags=\"[Image too small to tag] \"\n",
    "        azure_img_tags_confidence=\"\"\n",
    "\n",
    "    # *************************\n",
    "\n",
    "    #image hash\n",
    "    imageHash = 0\n",
    "    #print(\"image hash\")\n",
    "    if not os.path.exists(img_local_path):\n",
    "        print(\"Error image not loaded for image hash   \" + img_local_path)\n",
    "    else:         \n",
    "        # load the image from disk\n",
    "        path = Path(img_local_folder)\n",
    "        os.chdir(path)\n",
    "        hash_image = cv2.imread(img_file_name)\n",
    " \n",
    "\t      # if the image is None then we could not load it from disk (so\n",
    "\t      # skip it)\n",
    "        if not hash_image is None:\n",
    "            # convert the image to grayscale and compute the hash\n",
    "            hash_image = cv2.cvtColor(hash_image, cv2.COLOR_BGR2GRAY)\n",
    "            imageHash = dhash(hash_image)\n",
    "        else:\n",
    "            imageHash = 0\n",
    "            print(\"image hash - can't find image?\")\n",
    "                         \n",
    "    # *************************\n",
    "    #update the database\n",
    "    \n",
    "    #update_old_salary = (\n",
    "#        \"UPDATE salaries SET to_date = %s \"\n",
    " # \"WHERE emp_no = %s AND from_date = %s\")\n",
    "    update_image = (\"UPDATE tbl_webpage_images SET img_url = %s, azure_img_desc = %s, azure_img_desc_confidence = %s, azure_img_categories = %s, azure_img_score = %s, azure_img_tags = %s, azure_img_tags_confidence = %s, image_hash = %s WHERE id = %s;\")\n",
    "    # print(update_image)\n",
    "    print(id)\n",
    "    cursor_update.execute(update_image, (img_url, azure_img_desc, azure_img_desc_confidence, azure_img_categories, azure_img_categories_score, azure_img_tags, azure_img_tags_confidence, imageHash, id))\n",
    "    mariadb_connection.commit()\n",
    "    \n",
    "mariadb_connection.close()\n"
   ]
  },
  {
   "cell_type": "code",
   "execution_count": 12,
   "metadata": {},
   "outputs": [],
   "source": [
    "mariadb_connection.close()"
   ]
  },
  {
   "cell_type": "code",
   "execution_count": null,
   "metadata": {},
   "outputs": [],
   "source": []
  }
 ],
 "metadata": {
  "colab": {
   "name": "pompeii_image_seeer.ipynb",
   "provenance": []
  },
  "kernelspec": {
   "display_name": "Python 3",
   "language": "python",
   "name": "python3"
  },
  "language_info": {
   "codemirror_mode": {
    "name": "ipython",
    "version": 3
   },
   "file_extension": ".py",
   "mimetype": "text/x-python",
   "name": "python",
   "nbconvert_exporter": "python",
   "pygments_lexer": "ipython3",
   "version": "3.7.4"
  }
 },
 "nbformat": 4,
 "nbformat_minor": 1
}
