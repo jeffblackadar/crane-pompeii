{
 "cells": [
  {
   "cell_type": "markdown",
   "metadata": {},
   "source": [
    "# This program connects to Box.com, gets all of the folders and images and stores information into the database."
   ]
  },
  {
   "cell_type": "markdown",
   "metadata": {},
   "source": [
    "https://developer.box.com/en/guides/authentication/oauth2/with-sdk/"
   ]
  },
  {
   "cell_type": "code",
   "execution_count": null,
   "metadata": {},
   "outputs": [],
   "source": [
    "!pip install boxsdk\n",
    "!pip install auth\n",
    "!pip install redis\n",
    "!pip install mysql.connector\n",
    "!pip install requests"
   ]
  },
  {
   "cell_type": "markdown",
   "metadata": {},
   "source": [
    "# Run the cell below to authenticate with Box.com so we can use the API"
   ]
  },
  {
   "cell_type": "code",
   "execution_count": 48,
   "metadata": {},
   "outputs": [
    {
     "name": "stdout",
     "output_type": "stream",
     "text": [
      "rvy5o5ic72c00ldi8vpcqmof0t7h6w85\n",
      "VWJQ1LTracitLw5HfG8Q0TKplBogFEIT\n",
      "Click on this:\n",
      "https://account.box.com/api/oauth2/authorize?state=box_csrf_token_H56jTu8jmaz4tQ4m&response_type=code&client_id=rvy5o5ic72c00ldi8vpcqmof0t7h6w85&redirect_uri=https%3A%2F%2Fjeffblackadar.ca\n",
      "box_csrf_token_H56jTu8jmaz4tQ4m\n",
      "Copy the code that follows code= in the URL.  Paste it into the oauth.authenticate('___the_code___') below.  Be quick, the code lasts only a few seconds.\n"
     ]
    }
   ],
   "source": [
    "from boxsdk import OAuth2\n",
    "\n",
    "import json\n",
    "#Set the file we want to use for authenticating a Box app\n",
    "#The json file stores the client_id and client_secret so we don't have it in the code.\n",
    "# The json file looks like this:\n",
    "#{\n",
    "#\"client_id\":\"___the_codes_for_client_id___\",\n",
    "#\"client_secret\":\"___the_codes_for_client_secret___\"\n",
    "#}\n",
    "\n",
    "oauth_settings_file = 'C:\\\\ProgramData\\\\MySQL\\\\MySQL Server 8.0\\\\box_app_test.json'\n",
    "with open(oauth_settings_file, \"r\") as read_file:\n",
    "    oauth_data = json.load(read_file)\n",
    "print(oauth_data[\"client_id\"])\n",
    "print(oauth_data[\"client_secret\"])\n",
    "\n",
    "oauth = OAuth2(\n",
    "    client_id=oauth_data[\"client_id\"],\n",
    "    client_secret=oauth_data[\"client_secret\"]\n",
    ")\n",
    "\n",
    "auth_url, csrf_token = oauth.get_authorization_url('https://jeffblackadar.ca')\n",
    "print(\"Click on this:\")\n",
    "print(auth_url)\n",
    "print(csrf_token)\n",
    "print(\"Copy the code that follows code= in the URL.  Paste it into the oauth.authenticate('___the_code___') below.  Be quick, the code lasts only a few seconds.\")\n"
   ]
  },
  {
   "cell_type": "code",
   "execution_count": 49,
   "metadata": {},
   "outputs": [],
   "source": [
    "from boxsdk import Client\n",
    "\n",
    "# Make sure that the csrf token you get from the `state` parameter\n",
    "# in the final redirect URI is the same token you get from the\n",
    "# get_authorization_url method to protect against CSRF vulnerabilities.\n",
    "#assert 'THE_CSRF_TOKEN_YOU_GOT' == csrf_token\n",
    "access_token, refresh_token = oauth.authenticate('kYahWPesffjU5UUwIEoah8sdRBHBbpRA')\n",
    "client = Client(oauth)"
   ]
  },
  {
   "cell_type": "markdown",
   "metadata": {},
   "source": [
    "## Test the connection to Box.com - list all folders and files using recursion"
   ]
  },
  {
   "cell_type": "code",
   "execution_count": 30,
   "metadata": {},
   "outputs": [
    {
     "name": "stdout",
     "output_type": "stream",
     "text": [
      "this folder: \n",
      "Folder 98208868103 is named \"lop\"\n",
      "this folder: /lop\n",
      "Folder 98436941432 is named \"1963\"\n",
      "this folder: /lop/1963\n",
      "File 588118649408 is named \"Elizabeth II young 2019-08-10 15_41_20.591925.jpg\"\n",
      "File: 588118649408 is named: \"Elizabeth II young 2019-08-10 15_41_20.591925.jpg\" path: /lop/1963/Elizabeth II young 2019-08-10 15_41_20.591925.jpg \n",
      "File 588114839194 is named \"Elizabeth II young 2019-08-10 15_41_52.188758.jpg\"\n",
      "File: 588114839194 is named: \"Elizabeth II young 2019-08-10 15_41_52.188758.jpg\" path: /lop/1963/Elizabeth II young 2019-08-10 15_41_52.188758.jpg \n",
      "File 587019307270 is named \"eII2900.png\"\n",
      "File: 587019307270 is named: \"eII2900.png\" path: /lop/eII2900.png \n",
      "File 587019495720 is named \"eII2901.png\"\n",
      "File: 587019495720 is named: \"eII2901.png\" path: /lop/eII2901.png \n",
      "File 587019193229 is named \"eII2903.png\"\n",
      "File: 587019193229 is named: \"eII2903.png\" path: /lop/eII2903.png \n"
     ]
    }
   ],
   "source": [
    "def process_subfolder_test(client, folder_id, folder_name):\n",
    "    print(\"this folder: \"+folder_name)\n",
    "    items = client.folder(folder_id=folder_id).get_items()\n",
    "    for item in items:\n",
    "        print('{0} {1} is named \"{2}\"'.format(item.type.capitalize(), item.id, item.name))\n",
    "        if(item.type.capitalize()==\"Folder\"):\n",
    "            process_subfolder_test(client, item.id,folder_name+\"/\"+item.name)\n",
    "        if(item.type.capitalize()==\"File\"):\n",
    "            #print(item)\n",
    "            print('File: {0} is named: \"{1}\" path: {2} '.format(item.id, item.name, folder_name+\"/\"+item.name))            \n",
    "    return\n",
    "\n",
    "process_subfolder_test(client, '0',\"\")"
   ]
  },
  {
   "cell_type": "markdown",
   "metadata": {},
   "source": [
    "## Get all folders and store all files into a database."
   ]
  },
  {
   "cell_type": "code",
   "execution_count": 17,
   "metadata": {},
   "outputs": [],
   "source": [
    "def process_subfolder(client, folder_id, folder_name,cursor_insert):\n",
    "    print(\"this folder: \"+folder_name)\n",
    "    items = client.folder(folder_id=folder_id).get_items()\n",
    "    for item in items:\n",
    "        print('{0} {1} is named \"{2}\"'.format(item.type.capitalize(), item.id, item.name))\n",
    "        if(item.type.capitalize()==\"Folder\"):\n",
    "            process_subfolder(client, item.id,folder_name+\"/\"+item.name,cursor_insert)\n",
    "        if(item.type.capitalize()==\"File\"):\n",
    "            #print(item)\n",
    "            print('File: {0} is named: \"{1}\" path: {2} '.format(item.id, item.name, folder_name+\"/\"+item.name))\n",
    "            \n",
    "            insert_image = (\"INSERT INTO tbl_box_images (`id_box_file`,`id_box_folder`,`folder`,`file_name`,`img_src`,`img_url`) VALUES (%s,%s,%s,%s,%s,%s);\")\n",
    "            \n",
    "            cursor_insert.execute(insert_image, (item.id, folder_id, folder_name, item.name, folder_name+\"/\"+item.name, \"\"))\n",
    "            mariadb_connection.commit()\n",
    "    return\n",
    "\n",
    "\n",
    "\n"
   ]
  },
  {
   "cell_type": "code",
   "execution_count": null,
   "metadata": {},
   "outputs": [],
   "source": [
    "import requests\n",
    "import shutil\n",
    "from pathlib import Path\n",
    "base_dir = 'C:\\\\a_orgs\\\\carleton\\\\hist3814\\\\R\\\\pompeii\\\\box'\n",
    "\n",
    "\n",
    "import mysql.connector as mariadb\n",
    "\n",
    "mariadb_connection = mariadb.connect(option_files='C:\\\\ProgramData\\\\MySQL\\\\MySQL Server 8.0\\\\webpage_images.cnf', option_groups=\"webpage_images\")\n",
    "\n",
    "cursor_insert = mariadb_connection.cursor(buffered=True)\n",
    "\n",
    "process_subfolder(client, '0',\"\", cursor_insert)\n",
    "    \n",
    "mariadb_connection.close()    \n"
   ]
  },
  {
   "cell_type": "code",
   "execution_count": 20,
   "metadata": {},
   "outputs": [],
   "source": [
    "mariadb_connection.close()    "
   ]
  },
  {
   "cell_type": "markdown",
   "metadata": {},
   "source": [
    "## Process images: Connect to Box.com, download image thumbnail, get its hash value."
   ]
  },
  {
   "cell_type": "code",
   "execution_count": 50,
   "metadata": {},
   "outputs": [],
   "source": [
    "# Image hash functions\n",
    "# import the necessary packages\n",
    "from imutils import paths\n",
    "import argparse\n",
    "import time\n",
    "import sys\n",
    "import cv2\n",
    "import os\n",
    "\n",
    "# hashing with OpenCV and PythonPython\n",
    "def dhash(image, hashSize=8):\n",
    "    # resize the input image, adding a single column (width) so we\n",
    "    # can compute the horizontal gradient\n",
    "    resized = cv2.resize(image, (hashSize + 1, hashSize))\n",
    "\n",
    "    # compute the (relative) horizontal gradient between adjacent\n",
    "    # column pixels\n",
    "    diff = resized[:, 1:] > resized[:, :-1]\n",
    "\n",
    "    # convert the difference image to a hash\n",
    "    return sum([2 ** i for (i, v) in enumerate(diff.flatten()) if v])\n",
    "\n",
    "def dhash(image, hashSize=8):\n",
    "    # resize the input image, adding a single column (width) so we\n",
    "    # can compute the horizontal gradient\n",
    "    resized = cv2.resize(image, (hashSize + 1, hashSize))\n",
    " \n",
    "    # compute the (relative) horizontal gradient between adjacent\n",
    "    # column pixels\n",
    "    diff = resized[:, 1:] > resized[:, :-1]\n",
    " \n",
    "    # convert the difference image to a hash\n",
    "    return sum([2 ** i for (i, v) in enumerate(diff.flatten()) if v])"
   ]
  },
  {
   "cell_type": "code",
   "execution_count": 51,
   "metadata": {},
   "outputs": [],
   "source": [
    "import os\n",
    "import shutil\n",
    "from pathlib import Path\n",
    "base_dir = 'C:\\\\a_orgs\\\\carleton\\\\hist3814\\\\R\\\\pompeii\\\\box'\n",
    "\n",
    "def download_process_box_thumbnail(client, id_box, id_box_file, folder, file_name, cursor_update):\n",
    "    print(\"this file: \"+id_box_file)\n",
    "    #get a large 320 pixel thumbnail - it's probably faster, it's all we need for image hashing (I think) and will save on bandwidth and storage\n",
    "    try:\n",
    "        #file_info = client.file(id_box_file).get()\n",
    "       \n",
    "        thumbnail = client.file(id_box_file).get_thumbnail(extension='jpg', max_height='320', max_width='320')\n",
    "\n",
    "        # load the image for the image has later.  Load it now because it takes a bit of time\n",
    "\n",
    "        img_local_path=base_dir+folder+\"/\"+file_name\n",
    "        #print(img_local_path)\n",
    "        img_file_name = file_name\n",
    "        img_local_folder = base_dir+folder\n",
    "\n",
    "        #see if the image is there already\n",
    "        if not os.path.exists(img_local_path):\n",
    "            img_file_name = file_name\n",
    "            img_local_folder = base_dir+folder\n",
    "        \n",
    "            if not os.path.exists(img_local_folder):\n",
    "                #os.mkdir(img_local_folder)\n",
    "                path = Path(img_local_folder)\n",
    "                path.mkdir(parents=True,exist_ok=True)\n",
    "            #print(img_local_folder+'/'+ img_file_name)\n",
    "            \n",
    "            # Open the url image, set stream to True, this will return the stream content.\n",
    "            # Open a local file with wb ( write binary ) permission.\n",
    "            #local_file = open(img_local_folder+'/'+ img_file_name, 'wb')\n",
    "            with open(img_local_folder+'/'+ img_file_name,'wb') as f:\n",
    "                f.write(thumbnail)\n",
    "            #print(thumbnail)\n",
    "            del thumbnail\n",
    "            f.close()\n",
    "            #image hash\n",
    "            imageHash = 0\n",
    "            print(\"image hash\")\n",
    "            if not os.path.exists(img_local_path):\n",
    "                print(\"Error image not loaded for image hash   \" + img_local_path)\n",
    "            else:         \n",
    "                # load the image from disk\n",
    "                path = Path(img_local_folder)\n",
    "                os.chdir(path)\n",
    "                hash_image = cv2.imread(img_file_name)\n",
    " \n",
    "                # if the image is None then we could not load it from disk (so skip it)\n",
    "                if not hash_image is None:\n",
    "                    # convert the image to grayscale and compute the hash\n",
    "                    hash_image = cv2.cvtColor(hash_image, cv2.COLOR_BGR2GRAY)\n",
    "                    imageHash = dhash(hash_image)\n",
    "                    print(imageHash)\n",
    "                else:\n",
    "                    imageHash = 0\n",
    "                    print(\"image hash - can't find image?\")\n",
    "                update_image = (\"UPDATE tbl_box_images SET image_hash = %s WHERE id = %s;\")\n",
    "                # print(update_image)\n",
    "                print(id_box)\n",
    "                cursor_update.execute(update_image, (imageHash, id_box))\n",
    "                mariadb_connection.commit()\n",
    "            return\n",
    "    except:\n",
    "        print(sys.exc_info()[0])\n",
    "        return\n",
    "#    for item in items:\n",
    "#        print('{0} {1} is named \"{2}\"'.format(item.type.capitalize(), item.id, item.name))\n",
    "#        if(item.type.capitalize()==\"Folder\"):\n",
    "#            process_subfolder(client, item.id,folder_name+\"/\"+item.name,cursor_insert)\n",
    "#        if(item.type.capitalize()==\"File\"):\n",
    "#            #print(item)\n",
    "#            print('File: {0} is named: \"{1}\" path: {2} '.format(item.id, item.name, folder_name+\"/\"+item.name))\n",
    "#            \n",
    "#            insert_image = (\"INSERT INTO tbl_box_images (`id_box_file`,`id_box_folder`,`folder`,`file_name`,`img_src`,`img_url`) VALUES (%s,%s,%s,%s,%s,%s);\")\n",
    "#            \n",
    "#            cursor_insert.execute(insert_image, (item.id, folder_id, folder_name, item.name, folder_name+\"/\"+item.name, \"\"))\n",
    "#            mariadb_connection.commit()\n",
    "#    return"
   ]
  },
  {
   "cell_type": "code",
   "execution_count": null,
   "metadata": {},
   "outputs": [],
   "source": [
    "download_process_box_thumbnail(client,10, \"580392170777\", \"/pinp5/Altars/Altars/Altar 10110_files\", \"image008d.jpg\", cursor_update)"
   ]
  },
  {
   "cell_type": "code",
   "execution_count": null,
   "metadata": {},
   "outputs": [],
   "source": [
    "number_of_rows_to_run = 50000\n",
    "start_id = 250942\n",
    "end_id = start_id+number_of_rows_to_run\n",
    "\n",
    "import mysql.connector as mariadb\n",
    "mariadb_connection = mariadb.connect(option_files='C:\\\\ProgramData\\\\MySQL\\\\MySQL Server 8.0\\\\webpage_images.cnf', option_groups=\"webpage_images\")\n",
    "cursor = mariadb_connection.cursor(buffered=True)\n",
    "cursor_inner = mariadb_connection.cursor(buffered=True)\n",
    "cursor_update = mariadb_connection.cursor(buffered=True)\n",
    "cursor.execute(\"SELECT id, id_box_file, folder, file_name, img_path_match, id_tbl_webpage_images, img_src FROM webpage_images.tbl_box_images WHERE id>=%s AND id<%s\", (start_id, end_id))\n",
    "for id, id_box_file, folder, file_name, img_path_match, id_tbl_webpage_images, img_src in cursor:\n",
    "    #print(id, id_box_file, img_path_match, id_tbl_webpage_images, img_src)\n",
    "    #don't include .xml, .htm* or .thmx\n",
    "    #for row 158348\n",
    "    if(img_path_match is None):\n",
    "        img_path_match = \"\"\n",
    "    if (img_src.lower().find(\".xml\")<0) and (img_src.lower().find(\".htm\")<0) and (img_src.lower().find(\".thmx\")<0) and (img_src.lower().find(\".js\")<0) and (img_src.lower().find(\".pdf\")<0):\n",
    "        download_process_box_thumbnail(client, id, str(id_box_file), folder, file_name, cursor_update)\n",
    "        if(id_tbl_webpage_images is not None):\n",
    "            if(not id_tbl_webpage_images>0):\n",
    "                #logic repeats below - making a function seemed to make this more complicated\n",
    "                #No match found in the table tbl_box_images\n",
    "                wi_id=0            \n",
    "                cursor_wi_id = mariadb_connection.cursor(buffered=True, dictionary=True)\n",
    "                img_path_match_sql = img_path_match.replace(\"'\",\"''\")\n",
    "                #print(img_path_match_sql)\n",
    "                cursor_wi_id.execute(\"SELECT id as wi_id FROM webpage_images.tbl_webpage_images WHERE img_path_match='\"+img_path_match_sql+\"';\")\n",
    "                #print(cursor_inner)\n",
    "                #print(\"rows \"+str(cursor_wi_id.rowcount))\n",
    "                for wi_ids in cursor_wi_id:\n",
    "                    wi_id=wi_ids[\"wi_id\"]\n",
    "                    print(\"id \"+str(wi_id))\n",
    "                    if(wi_id>0):\n",
    "                        update_image = (\"UPDATE tbl_box_images SET `id_tbl_webpage_images` = %s WHERE id=%s;\")\n",
    "                        #print(update_image)\n",
    "                        cursor_update.execute(update_image, (wi_id, id))\n",
    "                        mariadb_connection.commit()\n",
    "                cursor_wi_id.close()\n",
    "                #if(wi_id<1):\n",
    "                #    download_process_box_thumbnail(client, id, str(id_box_file), folder, file_name, cursor_update)\n",
    "        else:\n",
    "            #logic repeats from above\n",
    "            wi_id=0            \n",
    "            cursor_wi_id = mariadb_connection.cursor(buffered=True, dictionary=True)\n",
    "            #cursor_inner.execute(select_match, (img_path_match))\n",
    "            \n",
    "            img_path_match_sql = img_path_match.replace(\"'\",\"''\")\n",
    "            #print(img_path_match_sql)\n",
    "            cursor_wi_id.execute(\"SELECT id as wi_id FROM webpage_images.tbl_webpage_images WHERE img_path_match='\"+img_path_match_sql+\"';\")\n",
    "            #print(\"rows \"+str(cursor_wi_id.rowcount))\n",
    "            for wi_ids in cursor_wi_id:\n",
    "                wi_id=wi_ids[\"wi_id\"]\n",
    "                print(\"id \"+str(wi_id))\n",
    "                if(wi_id>0):\n",
    "                    update_image = (\"UPDATE tbl_box_images SET `id_tbl_webpage_images` = %s WHERE id=%s;\")\n",
    "                    #print(update_image)\n",
    "                    cursor_update.execute(update_image, (wi_id, id))\n",
    "                    mariadb_connection.commit()\n",
    "            cursor_wi_id.close()\n",
    "            #if(wi_id<1):\n",
    "            #    download_process_box_thumbnail(client, id, str(id_box_file), folder, file_name, cursor_update)\n",
    "            \n",
    "cursor.close()\n",
    "cursor_update.close()\n",
    "cursor_inner.close()\n",
    "mariadb_connection.close()    \n",
    "#/Altars/Altar 10110_files/image009.jpg\n",
    "#/Altars/Altar 10110_files/image009.jpg"
   ]
  },
  {
   "cell_type": "code",
   "execution_count": 47,
   "metadata": {},
   "outputs": [],
   "source": [
    "mariadb_connection.close()    "
   ]
  },
  {
   "cell_type": "code",
   "execution_count": null,
   "metadata": {},
   "outputs": [],
   "source": [
    "import re\n"
   ]
  }
 ],
 "metadata": {
  "kernelspec": {
   "display_name": "Python 3",
   "language": "python",
   "name": "python3"
  },
  "language_info": {
   "codemirror_mode": {
    "name": "ipython",
    "version": 3
   },
   "file_extension": ".py",
   "mimetype": "text/x-python",
   "name": "python",
   "nbconvert_exporter": "python",
   "pygments_lexer": "ipython3",
   "version": "3.7.4"
  }
 },
 "nbformat": 4,
 "nbformat_minor": 2
}
