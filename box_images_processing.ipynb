{
 "cells": [
  {
   "cell_type": "markdown",
   "metadata": {},
   "source": [
    "# This program connects to Box.com, gets all of the folders and images and stores information into the database."
   ]
  },
  {
   "cell_type": "markdown",
   "metadata": {},
   "source": [
    "https://developer.box.com/en/guides/authentication/oauth2/with-sdk/"
   ]
  },
  {
   "cell_type": "code",
   "execution_count": null,
   "metadata": {},
   "outputs": [],
   "source": [
    "!pip install boxsdk\n",
    "!pip install auth\n",
    "!pip install redis\n",
    "!pip install mysql.connector\n",
    "!pip install requests"
   ]
  },
  {
   "cell_type": "code",
   "execution_count": 1,
   "metadata": {},
   "outputs": [
    {
     "name": "stdout",
     "output_type": "stream",
     "text": [
      "rvy5o5ic72c00ldi8vpcqmof0t7h6w85\n",
      "VWJQ1LTracitLw5HfG8Q0TKplBogFEIT\n",
      "Click on this:\n",
      "https://account.box.com/api/oauth2/authorize?state=box_csrf_token_s71i4Aw24kTmBzKJ&response_type=code&client_id=rvy5o5ic72c00ldi8vpcqmof0t7h6w85&redirect_uri=https%3A%2F%2Fjeffblackadar.ca\n",
      "box_csrf_token_s71i4Aw24kTmBzKJ\n",
      "Copy the code that follows code= in the URL.  Paste it into the oauth.authenticate('___the_code___') below.  Be quick, the code lasts only a few seconds.\n"
     ]
    }
   ],
   "source": [
    "from boxsdk import OAuth2\n",
    "\n",
    "import json\n",
    "#Set the file we want to use for authenticating a Box app\n",
    "#The json file stores the client_id and client_secret so we don't have it in the code.\n",
    "# The json file looks like this:\n",
    "#{\n",
    "#\"client_id\":\"___the_codes_for_client_id___\",\n",
    "#\"client_secret\":\"___the_codes_for_client_secret___\"\n",
    "#}\n",
    "\n",
    "oauth_settings_file = 'C:\\\\ProgramData\\\\MySQL\\\\MySQL Server 8.0\\\\box_app_test.json'\n",
    "with open(oauth_settings_file, \"r\") as read_file:\n",
    "    oauth_data = json.load(read_file)\n",
    "print(oauth_data[\"client_id\"])\n",
    "print(oauth_data[\"client_secret\"])\n",
    "\n",
    "oauth = OAuth2(\n",
    "    client_id=oauth_data[\"client_id\"],\n",
    "    client_secret=oauth_data[\"client_secret\"]\n",
    ")\n",
    "\n",
    "auth_url, csrf_token = oauth.get_authorization_url('https://jeffblackadar.ca')\n",
    "print(\"Click on this:\")\n",
    "print(auth_url)\n",
    "print(csrf_token)\n",
    "print(\"Copy the code that follows code= in the URL.  Paste it into the oauth.authenticate('___the_code___') below.  Be quick, the code lasts only a few seconds.\")\n"
   ]
  },
  {
   "cell_type": "code",
   "execution_count": 2,
   "metadata": {},
   "outputs": [],
   "source": [
    "from boxsdk import Client\n",
    "\n",
    "# Make sure that the csrf token you get from the `state` parameter\n",
    "# in the final redirect URI is the same token you get from the\n",
    "# get_authorization_url method to protect against CSRF vulnerabilities.\n",
    "#assert 'THE_CSRF_TOKEN_YOU_GOT' == csrf_token\n",
    "access_token, refresh_token = oauth.authenticate('RPLHGWYys5MXquaMgYqKqMT093RFSV8Y')\n",
    "client = Client(oauth)"
   ]
  },
  {
   "cell_type": "code",
   "execution_count": 3,
   "metadata": {},
   "outputs": [],
   "source": [
    "def process_subfolder(client, folder_id, folder_name,cursor_insert):\n",
    "    print(\"this folder: \"+folder_name)\n",
    "    items = client.folder(folder_id=folder_id).get_items()\n",
    "    for item in items:\n",
    "        print('{0} {1} is named \"{2}\"'.format(item.type.capitalize(), item.id, item.name))\n",
    "        if(item.type.capitalize()==\"Folder\"):\n",
    "            process_subfolder(client, item.id,folder_name+\"/\"+item.name,cursor_insert)\n",
    "        if(item.type.capitalize()==\"File\"):\n",
    "            #print(item)\n",
    "            print('{0} is named \"{1}\" path: {2}'.format(item.id, item.name, folder_name+\"/\"+item.name))\n",
    "            \n",
    "            insert_image = (\"INSERT INTO tbl_box_images (`id_box_file`,`id_box_folder`,`folder`,`file_name`,`img_src`,`img_url`) VALUES (%s,%s,%s,%s,%s,%s);\")\n",
    "            \n",
    "            cursor_insert.execute(insert_image, (item.id, folder_id, folder_name, item.name, folder_name+\"/\"+item.name, \"https://pompeiiinpictures.com/pompeiiinpictures\"+folder_name+\"/\"+item.name))\n",
    "            mariadb_connection.commit()\n",
    "    return\n",
    "\n",
    "\n"
   ]
  },
  {
   "cell_type": "code",
   "execution_count": 4,
   "metadata": {},
   "outputs": [
    {
     "name": "stdout",
     "output_type": "stream",
     "text": [
      "this folder: \n",
      "Folder 98208868103 is named \"lop\"\n",
      "this folder: /lop\n",
      "Folder 98436941432 is named \"1963\"\n",
      "this folder: /lop/1963\n",
      "File 588118649408 is named \"Elizabeth II young 2019-08-10 15_41_20.591925.jpg\"\n",
      "588118649408 is named \"Elizabeth II young 2019-08-10 15_41_20.591925.jpg\" path: /lop/1963/Elizabeth II young 2019-08-10 15_41_20.591925.jpg\n",
      "File 588114839194 is named \"Elizabeth II young 2019-08-10 15_41_52.188758.jpg\"\n",
      "588114839194 is named \"Elizabeth II young 2019-08-10 15_41_52.188758.jpg\" path: /lop/1963/Elizabeth II young 2019-08-10 15_41_52.188758.jpg\n",
      "File 587019307270 is named \"eII2900.png\"\n",
      "587019307270 is named \"eII2900.png\" path: /lop/eII2900.png\n",
      "File 587019495720 is named \"eII2901.png\"\n",
      "587019495720 is named \"eII2901.png\" path: /lop/eII2901.png\n",
      "File 587019193229 is named \"eII2903.png\"\n",
      "587019193229 is named \"eII2903.png\" path: /lop/eII2903.png\n"
     ]
    }
   ],
   "source": [
    "import requests\n",
    "import shutil\n",
    "from pathlib import Path\n",
    "base_dir = 'C:\\\\a_orgs\\\\carleton\\\\hist3814\\\\R\\\\pompeii\\\\box'\n",
    "\n",
    "\n",
    "import mysql.connector as mariadb\n",
    "\n",
    "mariadb_connection = mariadb.connect(option_files='C:\\\\ProgramData\\\\MySQL\\\\MySQL Server 8.0\\\\webpage_images.cnf', option_groups=\"webpage_images\")\n",
    "\n",
    "cursor_insert = mariadb_connection.cursor(buffered=True)\n",
    "\n",
    "process_subfolder(client, '0',\"\", cursor_insert)\n",
    "    \n",
    "mariadb_connection.close()    \n"
   ]
  },
  {
   "cell_type": "code",
   "execution_count": null,
   "metadata": {},
   "outputs": [],
   "source": []
  }
 ],
 "metadata": {
  "kernelspec": {
   "display_name": "Python 3",
   "language": "python",
   "name": "python3"
  },
  "language_info": {
   "codemirror_mode": {
    "name": "ipython",
    "version": 3
   },
   "file_extension": ".py",
   "mimetype": "text/x-python",
   "name": "python",
   "nbconvert_exporter": "python",
   "pygments_lexer": "ipython3",
   "version": "3.7.4"
  }
 },
 "nbformat": 4,
 "nbformat_minor": 2
}
