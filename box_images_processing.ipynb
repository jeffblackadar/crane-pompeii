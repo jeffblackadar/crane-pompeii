{
 "cells": [
  {
   "cell_type": "markdown",
   "metadata": {},
   "source": [
    "# This program connects to Box.com, gets all of the folders and images and stores information into the database."
   ]
  },
  {
   "cell_type": "markdown",
   "metadata": {},
   "source": [
    "https://developer.box.com/en/guides/authentication/oauth2/with-sdk/"
   ]
  },
  {
   "cell_type": "code",
   "execution_count": 5,
   "metadata": {},
   "outputs": [
    {
     "name": "stdout",
     "output_type": "stream",
     "text": [
      "Requirement already satisfied: boxsdk in c:\\programdata\\anaconda3\\lib\\site-packages (2.6.1)\n",
      "Requirement already satisfied: wrapt>=1.10.1 in c:\\programdata\\anaconda3\\lib\\site-packages (from boxsdk) (1.11.2)\n",
      "Requirement already satisfied: six>=1.9.0 in c:\\programdata\\anaconda3\\lib\\site-packages (from boxsdk) (1.12.0)\n",
      "Requirement already satisfied: attrs>=17.3.0 in c:\\users\\user\\appdata\\roaming\\python\\python37\\site-packages (from boxsdk) (19.3.0)\n",
      "Requirement already satisfied: requests>=2.4.3 in c:\\users\\user\\appdata\\roaming\\python\\python37\\site-packages (from boxsdk) (2.21.0)\n",
      "Requirement already satisfied: requests-toolbelt<1.0.0,>=0.4.0 in c:\\programdata\\anaconda3\\lib\\site-packages (from boxsdk) (0.9.1)\n",
      "Requirement already satisfied: certifi>=2017.4.17 in c:\\programdata\\anaconda3\\lib\\site-packages (from requests>=2.4.3->boxsdk) (2019.9.11)\n",
      "Requirement already satisfied: urllib3<1.25,>=1.21.1 in c:\\programdata\\anaconda3\\lib\\site-packages (from requests>=2.4.3->boxsdk) (1.24.2)\n",
      "Requirement already satisfied: chardet<3.1.0,>=3.0.2 in c:\\programdata\\anaconda3\\lib\\site-packages (from requests>=2.4.3->boxsdk) (3.0.4)\n",
      "Requirement already satisfied: idna<2.9,>=2.5 in c:\\programdata\\anaconda3\\lib\\site-packages (from requests>=2.4.3->boxsdk) (2.8)\n",
      "Requirement already satisfied: auth in c:\\programdata\\anaconda3\\lib\\site-packages (0.5.3)\n",
      "Requirement already satisfied: gunicorn in c:\\programdata\\anaconda3\\lib\\site-packages (from auth) (20.0.4)\n",
      "Requirement already satisfied: blinker in c:\\programdata\\anaconda3\\lib\\site-packages (from auth) (1.4)\n",
      "Requirement already satisfied: werkzeug in c:\\programdata\\anaconda3\\lib\\site-packages (from auth) (0.16.0)\n",
      "Requirement already satisfied: eventlet in c:\\programdata\\anaconda3\\lib\\site-packages (from auth) (0.25.1)\n",
      "Requirement already satisfied: mongoengine in c:\\programdata\\anaconda3\\lib\\site-packages (from auth) (0.19.0)\n",
      "Requirement already satisfied: requests in c:\\users\\user\\appdata\\roaming\\python\\python37\\site-packages (from auth) (2.21.0)\n",
      "Requirement already satisfied: falcon in c:\\programdata\\anaconda3\\lib\\site-packages (from auth) (2.0.0)\n",
      "Requirement already satisfied: setuptools>=3.0 in c:\\programdata\\anaconda3\\lib\\site-packages (from gunicorn->auth) (41.4.0)\n",
      "Requirement already satisfied: dnspython>=1.15.0 in c:\\programdata\\anaconda3\\lib\\site-packages (from eventlet->auth) (1.16.0)\n",
      "Requirement already satisfied: six>=1.10.0 in c:\\programdata\\anaconda3\\lib\\site-packages (from eventlet->auth) (1.12.0)\n",
      "Requirement already satisfied: greenlet>=0.3 in c:\\programdata\\anaconda3\\lib\\site-packages (from eventlet->auth) (0.4.15)\n",
      "Requirement already satisfied: monotonic>=1.4 in c:\\programdata\\anaconda3\\lib\\site-packages (from eventlet->auth) (1.5)\n",
      "Requirement already satisfied: pymongo>=3.4 in c:\\programdata\\anaconda3\\lib\\site-packages (from mongoengine->auth) (3.10.0)\n",
      "Requirement already satisfied: certifi>=2017.4.17 in c:\\programdata\\anaconda3\\lib\\site-packages (from requests->auth) (2019.9.11)\n",
      "Requirement already satisfied: chardet<3.1.0,>=3.0.2 in c:\\programdata\\anaconda3\\lib\\site-packages (from requests->auth) (3.0.4)\n",
      "Requirement already satisfied: urllib3<1.25,>=1.21.1 in c:\\programdata\\anaconda3\\lib\\site-packages (from requests->auth) (1.24.2)\n",
      "Requirement already satisfied: idna<2.9,>=2.5 in c:\\programdata\\anaconda3\\lib\\site-packages (from requests->auth) (2.8)\n",
      "Requirement already satisfied: redis in c:\\programdata\\anaconda3\\lib\\site-packages (3.3.11)\n",
      "Collecting mysql.connector\n",
      "Installing collected packages: mysql.connector\n",
      "Successfully installed mysql.connector\n",
      "Requirement already satisfied: requests in c:\\users\\user\\appdata\\roaming\\python\\python37\\site-packages (2.21.0)\n",
      "Requirement already satisfied: urllib3<1.25,>=1.21.1 in c:\\programdata\\anaconda3\\lib\\site-packages (from requests) (1.24.2)\n",
      "Requirement already satisfied: idna<2.9,>=2.5 in c:\\programdata\\anaconda3\\lib\\site-packages (from requests) (2.8)\n",
      "Requirement already satisfied: certifi>=2017.4.17 in c:\\programdata\\anaconda3\\lib\\site-packages (from requests) (2019.9.11)\n",
      "Requirement already satisfied: chardet<3.1.0,>=3.0.2 in c:\\programdata\\anaconda3\\lib\\site-packages (from requests) (3.0.4)\n"
     ]
    }
   ],
   "source": [
    "!pip install boxsdk\n",
    "!pip install auth\n",
    "!pip install redis\n",
    "!pip install mysql.connector\n",
    "!pip install requests"
   ]
  },
  {
   "cell_type": "code",
   "execution_count": 36,
   "metadata": {},
   "outputs": [
    {
     "name": "stdout",
     "output_type": "stream",
     "text": [
      "rvy5o5ic72c00ldi8vpcqmof0t7h6w85\n",
      "VWJQ1LTracitLw5HfG8Q0TKplBogFEIT\n",
      "Click on this:\n",
      "https://account.box.com/api/oauth2/authorize?state=box_csrf_token_kjGfXZI6hL1Pz41k&response_type=code&client_id=rvy5o5ic72c00ldi8vpcqmof0t7h6w85&redirect_uri=https%3A%2F%2Fjeffblackadar.ca\n",
      "box_csrf_token_kjGfXZI6hL1Pz41k\n",
      "Copy the code that follows code= in the URL.  Paste it into the oauth.authenticate('___the_code___') below.  Be quick, the code lasts only a few seconds.\n"
     ]
    }
   ],
   "source": [
    "from boxsdk import OAuth2\n",
    "\n",
    "import json\n",
    "#Set the file we want to use for authenticating a Box app\n",
    "#The json file stores the client_id and client_secret so we don't have it in the code.\n",
    "# The json file looks like this:\n",
    "#{\n",
    "#\"client_id\":\"___the_codes_for_client_id___\",\n",
    "#\"client_secret\":\"___the_codes_for_client_secret___\"\n",
    "#}\n",
    "\n",
    "oauth_settings_file = 'C:\\\\ProgramData\\\\MySQL\\\\MySQL Server 8.0\\\\box_app_test.json'\n",
    "with open(oauth_settings_file, \"r\") as read_file:\n",
    "    oauth_data = json.load(read_file)\n",
    "print(oauth_data[\"client_id\"])\n",
    "print(oauth_data[\"client_secret\"])\n",
    "\n",
    "oauth = OAuth2(\n",
    "    client_id=oauth_data[\"client_id\"],\n",
    "    client_secret=oauth_data[\"client_secret\"]\n",
    ")\n",
    "\n",
    "auth_url, csrf_token = oauth.get_authorization_url('https://jeffblackadar.ca')\n",
    "print(\"Click on this:\")\n",
    "print(auth_url)\n",
    "print(csrf_token)\n",
    "print(\"Copy the code that follows code= in the URL.  Paste it into the oauth.authenticate('___the_code___') below.  Be quick, the code lasts only a few seconds.\")\n"
   ]
  },
  {
   "cell_type": "code",
   "execution_count": 37,
   "metadata": {},
   "outputs": [],
   "source": [
    "from boxsdk import Client\n",
    "\n",
    "# Make sure that the csrf token you get from the `state` parameter\n",
    "# in the final redirect URI is the same token you get from the\n",
    "# get_authorization_url method to protect against CSRF vulnerabilities.\n",
    "#assert 'THE_CSRF_TOKEN_YOU_GOT' == csrf_token\n",
    "access_token, refresh_token = oauth.authenticate('y0Ied4ofurECiUjz2fYy0ErCIlKEI1PH')\n",
    "client = Client(oauth)"
   ]
  },
  {
   "cell_type": "code",
   "execution_count": 11,
   "metadata": {},
   "outputs": [],
   "source": [
    "def process_subfolder(client, folder_id, folder_name,cursor_insert):\n",
    "    print(\"this folder: \"+folder_name)\n",
    "    items = client.folder(folder_id=folder_id).get_items()\n",
    "    for item in items:\n",
    "        print('{0} {1} is named \"{2}\"'.format(item.type.capitalize(), item.id, item.name))\n",
    "        if(item.type.capitalize()==\"Folder\"):\n",
    "            process_subfolder(client, item.id,folder_name+\"/\"+item.name,cursor_insert)\n",
    "        if(item.type.capitalize()==\"File\"):\n",
    "            #print(item)\n",
    "            print('File: {0} is named: \"{1}\" path: {2} '.format(item.id, item.name, folder_name+\"/\"+item.name))\n",
    "            \n",
    "            insert_image = (\"INSERT INTO tbl_box_images (`id_box_file`,`id_box_folder`,`folder`,`file_name`,`img_src`,`img_url`) VALUES (%s,%s,%s,%s,%s,%s);\")\n",
    "            \n",
    "            cursor_insert.execute(insert_image, (item.id, folder_id, folder_name, item.name, folder_name+\"/\"+item.name, \"\"))\n",
    "            mariadb_connection.commit()\n",
    "    return\n",
    "\n",
    "\n"
   ]
  },
  {
   "cell_type": "code",
   "execution_count": null,
   "metadata": {},
   "outputs": [],
   "source": [
    "import requests\n",
    "import shutil\n",
    "from pathlib import Path\n",
    "base_dir = 'C:\\\\a_orgs\\\\carleton\\\\hist3814\\\\R\\\\pompeii\\\\box'\n",
    "\n",
    "\n",
    "import mysql.connector as mariadb\n",
    "\n",
    "mariadb_connection = mariadb.connect(option_files='C:\\\\ProgramData\\\\MySQL\\\\MySQL Server 8.0\\\\webpage_images.cnf', option_groups=\"webpage_images\")\n",
    "\n",
    "cursor_insert = mariadb_connection.cursor(buffered=True)\n",
    "\n",
    "process_subfolder(client, '0',\"\", cursor_insert)\n",
    "    \n",
    "mariadb_connection.close()    \n"
   ]
  },
  {
   "cell_type": "code",
   "execution_count": 20,
   "metadata": {},
   "outputs": [],
   "source": [
    "mariadb_connection.close()    "
   ]
  },
  {
   "cell_type": "code",
   "execution_count": 55,
   "metadata": {},
   "outputs": [],
   "source": [
    "# Image hash functions\n",
    "# import the necessary packages\n",
    "from imutils import paths\n",
    "import argparse\n",
    "import time\n",
    "import sys\n",
    "import cv2\n",
    "import os\n",
    "\n",
    "# hashing with OpenCV and PythonPython\n",
    "def dhash(image, hashSize=8):\n",
    "    # resize the input image, adding a single column (width) so we\n",
    "    # can compute the horizontal gradient\n",
    "    resized = cv2.resize(image, (hashSize + 1, hashSize))\n",
    "\n",
    "    # compute the (relative) horizontal gradient between adjacent\n",
    "    # column pixels\n",
    "    diff = resized[:, 1:] > resized[:, :-1]\n",
    "\n",
    "    # convert the difference image to a hash\n",
    "    return sum([2 ** i for (i, v) in enumerate(diff.flatten()) if v])\n",
    "\n",
    "def dhash(image, hashSize=8):\n",
    "    # resize the input image, adding a single column (width) so we\n",
    "    # can compute the horizontal gradient\n",
    "    resized = cv2.resize(image, (hashSize + 1, hashSize))\n",
    " \n",
    "    # compute the (relative) horizontal gradient between adjacent\n",
    "    # column pixels\n",
    "    diff = resized[:, 1:] > resized[:, :-1]\n",
    " \n",
    "    # convert the difference image to a hash\n",
    "    return sum([2 ** i for (i, v) in enumerate(diff.flatten()) if v])"
   ]
  },
  {
   "cell_type": "code",
   "execution_count": 63,
   "metadata": {},
   "outputs": [],
   "source": [
    "import os\n",
    "import shutil\n",
    "from pathlib import Path\n",
    "base_dir = 'C:\\\\a_orgs\\\\carleton\\\\hist3814\\\\R\\\\pompeii\\\\box'\n",
    "\n",
    "def download_process_box_thumbnail(client, id_box, id_box_file, folder, file_name, cursor_update):\n",
    "    print(\"this file: \"+id_box_file)\n",
    "    #get a large 320 pixel thumbnail - it's probably faster, it's all we need for image hashing (I think) and will save on bandwidth and storage\n",
    "    thumbnail = client.file(id_box_file).get_thumbnail(extension='jpg', max_height='320', max_width='320')\n",
    "\n",
    "    # load the image for the image has later.  Load it now because it takes a bit of time\n",
    "\n",
    "    img_local_path=base_dir+folder+\"/\"+file_name\n",
    "    #print(img_local_path)\n",
    "    img_file_name = file_name\n",
    "    img_local_folder = base_dir+folder\n",
    "\n",
    "    #see if the image is there already\n",
    "    if not os.path.exists(img_local_path):\n",
    "        img_file_name = file_name\n",
    "        img_local_folder = base_dir+folder\n",
    "        \n",
    "        if not os.path.exists(img_local_folder):\n",
    "            #os.mkdir(img_local_folder)\n",
    "            path = Path(img_local_folder)\n",
    "            path.mkdir(parents=True,exist_ok=True)\n",
    "        #print(img_local_folder+'/'+ img_file_name)\n",
    "        \n",
    "        # Open the url image, set stream to True, this will return the stream content.\n",
    "        # Open a local file with wb ( write binary ) permission.\n",
    "        #local_file = open(img_local_folder+'/'+ img_file_name, 'wb')\n",
    "        with open(img_local_folder+'/'+ img_file_name,'wb') as f:\n",
    "            f.write(thumbnail)\n",
    "        #print(thumbnail)\n",
    "        del thumbnail\n",
    "            #image hash\n",
    "        imageHash = 0\n",
    "        print(\"image hash\")\n",
    "        if not os.path.exists(img_local_path):\n",
    "            print(\"Error image not loaded for image hash   \" + img_local_path)\n",
    "        else:         \n",
    "            # load the image from disk\n",
    "            path = Path(img_local_folder)\n",
    "            os.chdir(path)\n",
    "            hash_image = cv2.imread(img_file_name)\n",
    " \n",
    "            # if the image is None then we could not load it from disk (so skip it)\n",
    "            if not hash_image is None:\n",
    "                # convert the image to grayscale and compute the hash\n",
    "                hash_image = cv2.cvtColor(hash_image, cv2.COLOR_BGR2GRAY)\n",
    "                imageHash = dhash(hash_image)\n",
    "                print(imageHash)\n",
    "            else:\n",
    "                imageHash = 0\n",
    "                print(\"image hash - can't find image?\")\n",
    "            update_image = (\"UPDATE tbl_box_images SET image_hash = %s WHERE id = %s;\")\n",
    "            # print(update_image)\n",
    "            print(id_box)\n",
    "            cursor_update.execute(update_image, (imageHash, id_box))\n",
    "            mariadb_connection.commit()\n",
    "\n",
    "\n",
    "#    for item in items:\n",
    "#        print('{0} {1} is named \"{2}\"'.format(item.type.capitalize(), item.id, item.name))\n",
    "#        if(item.type.capitalize()==\"Folder\"):\n",
    "#            process_subfolder(client, item.id,folder_name+\"/\"+item.name,cursor_insert)\n",
    "#        if(item.type.capitalize()==\"File\"):\n",
    "#            #print(item)\n",
    "#            print('File: {0} is named: \"{1}\" path: {2} '.format(item.id, item.name, folder_name+\"/\"+item.name))\n",
    "#            \n",
    "#            insert_image = (\"INSERT INTO tbl_box_images (`id_box_file`,`id_box_folder`,`folder`,`file_name`,`img_src`,`img_url`) VALUES (%s,%s,%s,%s,%s,%s);\")\n",
    "#            \n",
    "#            cursor_insert.execute(insert_image, (item.id, folder_id, folder_name, item.name, folder_name+\"/\"+item.name, \"\"))\n",
    "#            mariadb_connection.commit()\n",
    "#    return"
   ]
  },
  {
   "cell_type": "code",
   "execution_count": null,
   "metadata": {},
   "outputs": [],
   "source": [
    "download_process_box_thumbnail(client,10, \"580392170777\", \"/pinp5/Altars/Altars/Altar 10110_files\", \"image008d.jpg\", cursor_update)"
   ]
  },
  {
   "cell_type": "code",
   "execution_count": 65,
   "metadata": {},
   "outputs": [
    {
     "name": "stdout",
     "output_type": "stream",
     "text": [
      "this file: 580409701973\n",
      "image hash\n",
      "1124292005475302354\n",
      "12\n"
     ]
    },
    {
     "ename": "DatabaseError",
     "evalue": "1205 (HY000): Lock wait timeout exceeded; try restarting transaction",
     "output_type": "error",
     "traceback": [
      "\u001b[1;31m---------------------------------------------------------------------------\u001b[0m",
      "\u001b[1;31mDatabaseError\u001b[0m                             Traceback (most recent call last)",
      "\u001b[1;32m<ipython-input-65-b265f77ac803>\u001b[0m in \u001b[0;36m<module>\u001b[1;34m()\u001b[0m\n\u001b[0;32m     24\u001b[0m                 \u001b[0mdownload_process_box_thumbnail\u001b[0m\u001b[1;33m(\u001b[0m\u001b[0mclient\u001b[0m\u001b[1;33m,\u001b[0m \u001b[0mid\u001b[0m\u001b[1;33m,\u001b[0m \u001b[0mstr\u001b[0m\u001b[1;33m(\u001b[0m\u001b[0mid_box_file\u001b[0m\u001b[1;33m)\u001b[0m\u001b[1;33m,\u001b[0m \u001b[0mfolder\u001b[0m\u001b[1;33m,\u001b[0m \u001b[0mfile_name\u001b[0m\u001b[1;33m,\u001b[0m \u001b[0mcursor_update\u001b[0m\u001b[1;33m)\u001b[0m\u001b[1;33m\u001b[0m\u001b[1;33m\u001b[0m\u001b[0m\n\u001b[0;32m     25\u001b[0m     \u001b[1;32melse\u001b[0m\u001b[1;33m:\u001b[0m\u001b[1;33m\u001b[0m\u001b[1;33m\u001b[0m\u001b[0m\n\u001b[1;32m---> 26\u001b[1;33m         \u001b[0mdownload_process_box_thumbnail\u001b[0m\u001b[1;33m(\u001b[0m\u001b[0mclient\u001b[0m\u001b[1;33m,\u001b[0m \u001b[0mid\u001b[0m\u001b[1;33m,\u001b[0m \u001b[0mstr\u001b[0m\u001b[1;33m(\u001b[0m\u001b[0mid_box_file\u001b[0m\u001b[1;33m)\u001b[0m\u001b[1;33m,\u001b[0m \u001b[0mfolder\u001b[0m\u001b[1;33m,\u001b[0m \u001b[0mfile_name\u001b[0m\u001b[1;33m,\u001b[0m \u001b[0mcursor_update\u001b[0m\u001b[1;33m)\u001b[0m\u001b[1;33m\u001b[0m\u001b[1;33m\u001b[0m\u001b[0m\n\u001b[0m\u001b[0;32m     27\u001b[0m \u001b[0mmariadb_connection\u001b[0m\u001b[1;33m.\u001b[0m\u001b[0mclose\u001b[0m\u001b[1;33m(\u001b[0m\u001b[1;33m)\u001b[0m\u001b[1;33m\u001b[0m\u001b[1;33m\u001b[0m\u001b[0m\n",
      "\u001b[1;32m<ipython-input-63-c32500444c81>\u001b[0m in \u001b[0;36mdownload_process_box_thumbnail\u001b[1;34m(client, id_box, id_box_file, folder, file_name, cursor_update)\u001b[0m\n\u001b[0;32m     57\u001b[0m             \u001b[1;31m# print(update_image)\u001b[0m\u001b[1;33m\u001b[0m\u001b[1;33m\u001b[0m\u001b[1;33m\u001b[0m\u001b[0m\n\u001b[0;32m     58\u001b[0m             \u001b[0mprint\u001b[0m\u001b[1;33m(\u001b[0m\u001b[0mid_box\u001b[0m\u001b[1;33m)\u001b[0m\u001b[1;33m\u001b[0m\u001b[1;33m\u001b[0m\u001b[0m\n\u001b[1;32m---> 59\u001b[1;33m             \u001b[0mcursor_update\u001b[0m\u001b[1;33m.\u001b[0m\u001b[0mexecute\u001b[0m\u001b[1;33m(\u001b[0m\u001b[0mupdate_image\u001b[0m\u001b[1;33m,\u001b[0m \u001b[1;33m(\u001b[0m\u001b[0mimageHash\u001b[0m\u001b[1;33m,\u001b[0m \u001b[0mid_box\u001b[0m\u001b[1;33m)\u001b[0m\u001b[1;33m)\u001b[0m\u001b[1;33m\u001b[0m\u001b[1;33m\u001b[0m\u001b[0m\n\u001b[0m\u001b[0;32m     60\u001b[0m             \u001b[0mmariadb_connection\u001b[0m\u001b[1;33m.\u001b[0m\u001b[0mcommit\u001b[0m\u001b[1;33m(\u001b[0m\u001b[1;33m)\u001b[0m\u001b[1;33m\u001b[0m\u001b[1;33m\u001b[0m\u001b[0m\n\u001b[0;32m     61\u001b[0m \u001b[1;33m\u001b[0m\u001b[0m\n",
      "\u001b[1;32mC:\\ProgramData\\Anaconda3\\lib\\site-packages\\mysql\\connector\\cursor.py\u001b[0m in \u001b[0;36mexecute\u001b[1;34m(self, operation, params, multi)\u001b[0m\n\u001b[0;32m    549\u001b[0m         \u001b[1;32melse\u001b[0m\u001b[1;33m:\u001b[0m\u001b[1;33m\u001b[0m\u001b[1;33m\u001b[0m\u001b[0m\n\u001b[0;32m    550\u001b[0m             \u001b[1;32mtry\u001b[0m\u001b[1;33m:\u001b[0m\u001b[1;33m\u001b[0m\u001b[1;33m\u001b[0m\u001b[0m\n\u001b[1;32m--> 551\u001b[1;33m                 \u001b[0mself\u001b[0m\u001b[1;33m.\u001b[0m\u001b[0m_handle_result\u001b[0m\u001b[1;33m(\u001b[0m\u001b[0mself\u001b[0m\u001b[1;33m.\u001b[0m\u001b[0m_connection\u001b[0m\u001b[1;33m.\u001b[0m\u001b[0mcmd_query\u001b[0m\u001b[1;33m(\u001b[0m\u001b[0mstmt\u001b[0m\u001b[1;33m)\u001b[0m\u001b[1;33m)\u001b[0m\u001b[1;33m\u001b[0m\u001b[1;33m\u001b[0m\u001b[0m\n\u001b[0m\u001b[0;32m    552\u001b[0m             \u001b[1;32mexcept\u001b[0m \u001b[0merrors\u001b[0m\u001b[1;33m.\u001b[0m\u001b[0mInterfaceError\u001b[0m\u001b[1;33m:\u001b[0m\u001b[1;33m\u001b[0m\u001b[1;33m\u001b[0m\u001b[0m\n\u001b[0;32m    553\u001b[0m                 \u001b[1;32mif\u001b[0m \u001b[0mself\u001b[0m\u001b[1;33m.\u001b[0m\u001b[0m_connection\u001b[0m\u001b[1;33m.\u001b[0m\u001b[0m_have_next_result\u001b[0m\u001b[1;33m:\u001b[0m  \u001b[1;31m# pylint: disable=W0212\u001b[0m\u001b[1;33m\u001b[0m\u001b[1;33m\u001b[0m\u001b[0m\n",
      "\u001b[1;32mC:\\ProgramData\\Anaconda3\\lib\\site-packages\\mysql\\connector\\connection.py\u001b[0m in \u001b[0;36mcmd_query\u001b[1;34m(self, query, raw, buffered, raw_as_string)\u001b[0m\n\u001b[0;32m    488\u001b[0m         \u001b[1;32mif\u001b[0m \u001b[1;32mnot\u001b[0m \u001b[0misinstance\u001b[0m\u001b[1;33m(\u001b[0m\u001b[0mquery\u001b[0m\u001b[1;33m,\u001b[0m \u001b[0mbytes\u001b[0m\u001b[1;33m)\u001b[0m\u001b[1;33m:\u001b[0m\u001b[1;33m\u001b[0m\u001b[1;33m\u001b[0m\u001b[0m\n\u001b[0;32m    489\u001b[0m             \u001b[0mquery\u001b[0m \u001b[1;33m=\u001b[0m \u001b[0mquery\u001b[0m\u001b[1;33m.\u001b[0m\u001b[0mencode\u001b[0m\u001b[1;33m(\u001b[0m\u001b[1;34m'utf-8'\u001b[0m\u001b[1;33m)\u001b[0m\u001b[1;33m\u001b[0m\u001b[1;33m\u001b[0m\u001b[0m\n\u001b[1;32m--> 490\u001b[1;33m         \u001b[0mresult\u001b[0m \u001b[1;33m=\u001b[0m \u001b[0mself\u001b[0m\u001b[1;33m.\u001b[0m\u001b[0m_handle_result\u001b[0m\u001b[1;33m(\u001b[0m\u001b[0mself\u001b[0m\u001b[1;33m.\u001b[0m\u001b[0m_send_cmd\u001b[0m\u001b[1;33m(\u001b[0m\u001b[0mServerCmd\u001b[0m\u001b[1;33m.\u001b[0m\u001b[0mQUERY\u001b[0m\u001b[1;33m,\u001b[0m \u001b[0mquery\u001b[0m\u001b[1;33m)\u001b[0m\u001b[1;33m)\u001b[0m\u001b[1;33m\u001b[0m\u001b[1;33m\u001b[0m\u001b[0m\n\u001b[0m\u001b[0;32m    491\u001b[0m \u001b[1;33m\u001b[0m\u001b[0m\n\u001b[0;32m    492\u001b[0m         \u001b[1;32mif\u001b[0m \u001b[0mself\u001b[0m\u001b[1;33m.\u001b[0m\u001b[0m_have_next_result\u001b[0m\u001b[1;33m:\u001b[0m\u001b[1;33m\u001b[0m\u001b[1;33m\u001b[0m\u001b[0m\n",
      "\u001b[1;32mC:\\ProgramData\\Anaconda3\\lib\\site-packages\\mysql\\connector\\connection.py\u001b[0m in \u001b[0;36m_handle_result\u001b[1;34m(self, packet)\u001b[0m\n\u001b[0;32m    393\u001b[0m             \u001b[1;32mreturn\u001b[0m \u001b[0mself\u001b[0m\u001b[1;33m.\u001b[0m\u001b[0m_handle_eof\u001b[0m\u001b[1;33m(\u001b[0m\u001b[0mpacket\u001b[0m\u001b[1;33m)\u001b[0m\u001b[1;33m\u001b[0m\u001b[1;33m\u001b[0m\u001b[0m\n\u001b[0;32m    394\u001b[0m         \u001b[1;32melif\u001b[0m \u001b[0mpacket\u001b[0m\u001b[1;33m[\u001b[0m\u001b[1;36m4\u001b[0m\u001b[1;33m]\u001b[0m \u001b[1;33m==\u001b[0m \u001b[1;36m255\u001b[0m\u001b[1;33m:\u001b[0m\u001b[1;33m\u001b[0m\u001b[1;33m\u001b[0m\u001b[0m\n\u001b[1;32m--> 395\u001b[1;33m             \u001b[1;32mraise\u001b[0m \u001b[0merrors\u001b[0m\u001b[1;33m.\u001b[0m\u001b[0mget_exception\u001b[0m\u001b[1;33m(\u001b[0m\u001b[0mpacket\u001b[0m\u001b[1;33m)\u001b[0m\u001b[1;33m\u001b[0m\u001b[1;33m\u001b[0m\u001b[0m\n\u001b[0m\u001b[0;32m    396\u001b[0m \u001b[1;33m\u001b[0m\u001b[0m\n\u001b[0;32m    397\u001b[0m         \u001b[1;31m# We have a text result set\u001b[0m\u001b[1;33m\u001b[0m\u001b[1;33m\u001b[0m\u001b[1;33m\u001b[0m\u001b[0m\n",
      "\u001b[1;31mDatabaseError\u001b[0m: 1205 (HY000): Lock wait timeout exceeded; try restarting transaction"
     ]
    }
   ],
   "source": [
    "number_of_rows_to_run = 40\n",
    "start_id = 12\n",
    "end_id = start_id+number_of_rows_to_run\n",
    "\n",
    "import mysql.connector as mariadb\n",
    "mariadb_connection = mariadb.connect(option_files='C:\\\\ProgramData\\\\MySQL\\\\MySQL Server 8.0\\\\webpage_images.cnf', option_groups=\"webpage_images\")\n",
    "cursor = mariadb_connection.cursor(buffered=True)\n",
    "cursor_inner = mariadb_connection.cursor(buffered=True)\n",
    "cursor_update = mariadb_connection.cursor(buffered=True)\n",
    "cursor.execute(\"SELECT id, id_box_file, folder, file_name, img_path_match, id_tbl_webpage_images, img_src FROM webpage_images.tbl_box_images WHERE id>=%s AND id<%s\", (start_id, end_id))\n",
    "for id, id_box_file, folder, file_name, img_path_match, id_tbl_webpage_images, img_src in cursor:\n",
    "    #print(id, id_box_file, img_path_match, id_tbl_webpage_images, img_src)\n",
    "    if(id_tbl_webpage_images is not None):\n",
    "        if(id_tbl_webpage_images>0) and (img_src.lower().find(\".xml\")<0) and (img_src.lower().find(\".htm\")<0) and (img_src.lower().find(\".thmx\")<0):\n",
    "            wi_id=0\n",
    "            print(img_path_match)\n",
    "            cursor_inner.execute(\"SELECT id as wi_id FROM webpage_images.tbl_webpage_images WHERE img_path_match = '%s';\", (img_path_match))\n",
    "            if(wi_id>0):\n",
    "                update_image = (\"UPDATE tbl_box_images SET `id_tbl_webpage_images` = %s WHERE id=%s;\")\n",
    "                #print(update_image)\n",
    "                cursor_update.execute(update_image, (wi_id, id))\n",
    "                mariadb_connection.commit()\n",
    "            else:    \n",
    "                download_process_box_thumbnail(client, id, str(id_box_file), folder, file_name, cursor_update)\n",
    "    else:\n",
    "        download_process_box_thumbnail(client, id, str(id_box_file), folder, file_name, cursor_update)\n",
    "mariadb_connection.close()    "
   ]
  },
  {
   "cell_type": "code",
   "execution_count": 61,
   "metadata": {},
   "outputs": [],
   "source": [
    "mariadb_connection.close()    "
   ]
  },
  {
   "cell_type": "code",
   "execution_count": null,
   "metadata": {},
   "outputs": [],
   "source": []
  }
 ],
 "metadata": {
  "kernelspec": {
   "display_name": "Python 3",
   "language": "python",
   "name": "python3"
  },
  "language_info": {
   "codemirror_mode": {
    "name": "ipython",
    "version": 3
   },
   "file_extension": ".py",
   "mimetype": "text/x-python",
   "name": "python",
   "nbconvert_exporter": "python",
   "pygments_lexer": "ipython3",
   "version": "3.7.4"
  }
 },
 "nbformat": 4,
 "nbformat_minor": 2
}
